{
  "nbformat": 4,
  "nbformat_minor": 0,
  "metadata": {
    "colab": {
      "provenance": [],
      "authorship_tag": "ABX9TyO49yQDf2rbnoP1rHjqDqXn",
      "include_colab_link": true
    },
    "kernelspec": {
      "name": "python3",
      "display_name": "Python 3"
    },
    "language_info": {
      "name": "python"
    }
  },
  "cells": [
    {
      "cell_type": "markdown",
      "metadata": {
        "id": "view-in-github",
        "colab_type": "text"
      },
      "source": [
        "<a href=\"https://colab.research.google.com/github/Nanojuarez01511/Extracci-n-de-caracter-sticas/blob/main/Extracci%C3%B3n_de_caracter%C3%ADsticas.ipynb\" target=\"_parent\"><img src=\"https://colab.research.google.com/assets/colab-badge.svg\" alt=\"Open In Colab\"/></a>"
      ]
    },
    {
      "cell_type": "code",
      "execution_count": null,
      "metadata": {
        "id": "ycP8ShvsOxOS"
      },
      "outputs": [],
      "source": [
        "%pip install funpymodeling"
      ]
    },
    {
      "cell_type": "code",
      "source": [
        "import pandas as pd\n",
        "import numpy as np\n",
        "import matplotlib.pyplot as plt\n",
        "import matplotlib.pyplot as plt\n",
        "from funpymodeling.exploratory import freq_tbl"
      ],
      "metadata": {
        "id": "kfU1nqsxPAHH"
      },
      "execution_count": null,
      "outputs": []
    },
    {
      "cell_type": "code",
      "source": [
        "from google.colab import files\n",
        "files.upload()"
      ],
      "metadata": {
        "id": "tnS8jgt4PLMj"
      },
      "execution_count": null,
      "outputs": []
    },
    {
      "cell_type": "code",
      "source": [
        "Data = pd.read_excel(\"microretailer_mit_lift_lab.xlsx\")"
      ],
      "metadata": {
        "id": "NqtTM7TvPaSq"
      },
      "execution_count": null,
      "outputs": []
    },
    {
      "cell_type": "code",
      "source": [
        "Data.info()"
      ],
      "metadata": {
        "id": "H1Sd5hlePgp_"
      },
      "execution_count": null,
      "outputs": []
    },
    {
      "cell_type": "code",
      "source": [
        "Data.head(1)"
      ],
      "metadata": {
        "colab": {
          "base_uri": "https://localhost:8080/",
          "height": 165
        },
        "id": "AhooUr1-Pn8X",
        "outputId": "b2a54ab7-3a48-43a7-9198-414d8f9a5751"
      },
      "execution_count": null,
      "outputs": [
        {
          "output_type": "execute_result",
          "data": {
            "text/plain": [
              "                             _record_id             _title  \\\n",
              "0  dff2998e-af74-4de6-8efd-488aca24e67b  November 12, 2022   \n",
              "\n",
              "        _server_updated_at           _updated_by  \\\n",
              "0  2022-11-12 22:15:10 UTC  Salomon Abdala Perez   \n",
              "\n",
              "                                      _geometry  _latitude  _longitude  \\\n",
              "0  SRID=4326;POINT(-98.233822273 19.0535362706)  19.053536  -98.233822   \n",
              "\n",
              "        228_store_name 229_store_picture 232_type_of_store  ...  \\\n",
              "0  Eugene’s Compostura           1 Photo            Tailor  ...   \n",
              "\n",
              "  261_technology_organization 262_technology_serve_customers  \\\n",
              "0                         NaN                            NaN   \n",
              "\n",
              "  263_technology_secure_sales  264_technology_budget  \\\n",
              "0                         NaN                    NaN   \n",
              "\n",
              "   267_technology_investment_customer_preferences  \\\n",
              "0                                             NaN   \n",
              "\n",
              "  234_willingness_participate_workshop  318_shopkeeper_name  \\\n",
              "0                                   no                  NaN   \n",
              "\n",
              "  319_shopkeepers_last_name 236_whatsapp 235_email  \n",
              "0                       NaN          NaN       NaN  \n",
              "\n",
              "[1 rows x 106 columns]"
            ],
            "text/html": [
              "\n",
              "  <div id=\"df-a8483ca9-a1a4-4259-a2b1-526c4069ef51\" class=\"colab-df-container\">\n",
              "    <div>\n",
              "<style scoped>\n",
              "    .dataframe tbody tr th:only-of-type {\n",
              "        vertical-align: middle;\n",
              "    }\n",
              "\n",
              "    .dataframe tbody tr th {\n",
              "        vertical-align: top;\n",
              "    }\n",
              "\n",
              "    .dataframe thead th {\n",
              "        text-align: right;\n",
              "    }\n",
              "</style>\n",
              "<table border=\"1\" class=\"dataframe\">\n",
              "  <thead>\n",
              "    <tr style=\"text-align: right;\">\n",
              "      <th></th>\n",
              "      <th>_record_id</th>\n",
              "      <th>_title</th>\n",
              "      <th>_server_updated_at</th>\n",
              "      <th>_updated_by</th>\n",
              "      <th>_geometry</th>\n",
              "      <th>_latitude</th>\n",
              "      <th>_longitude</th>\n",
              "      <th>228_store_name</th>\n",
              "      <th>229_store_picture</th>\n",
              "      <th>232_type_of_store</th>\n",
              "      <th>...</th>\n",
              "      <th>261_technology_organization</th>\n",
              "      <th>262_technology_serve_customers</th>\n",
              "      <th>263_technology_secure_sales</th>\n",
              "      <th>264_technology_budget</th>\n",
              "      <th>267_technology_investment_customer_preferences</th>\n",
              "      <th>234_willingness_participate_workshop</th>\n",
              "      <th>318_shopkeeper_name</th>\n",
              "      <th>319_shopkeepers_last_name</th>\n",
              "      <th>236_whatsapp</th>\n",
              "      <th>235_email</th>\n",
              "    </tr>\n",
              "  </thead>\n",
              "  <tbody>\n",
              "    <tr>\n",
              "      <th>0</th>\n",
              "      <td>dff2998e-af74-4de6-8efd-488aca24e67b</td>\n",
              "      <td>November 12, 2022</td>\n",
              "      <td>2022-11-12 22:15:10 UTC</td>\n",
              "      <td>Salomon Abdala Perez</td>\n",
              "      <td>SRID=4326;POINT(-98.233822273 19.0535362706)</td>\n",
              "      <td>19.053536</td>\n",
              "      <td>-98.233822</td>\n",
              "      <td>Eugene’s Compostura</td>\n",
              "      <td>1 Photo</td>\n",
              "      <td>Tailor</td>\n",
              "      <td>...</td>\n",
              "      <td>NaN</td>\n",
              "      <td>NaN</td>\n",
              "      <td>NaN</td>\n",
              "      <td>NaN</td>\n",
              "      <td>NaN</td>\n",
              "      <td>no</td>\n",
              "      <td>NaN</td>\n",
              "      <td>NaN</td>\n",
              "      <td>NaN</td>\n",
              "      <td>NaN</td>\n",
              "    </tr>\n",
              "  </tbody>\n",
              "</table>\n",
              "<p>1 rows × 106 columns</p>\n",
              "</div>\n",
              "    <div class=\"colab-df-buttons\">\n",
              "\n",
              "  <div class=\"colab-df-container\">\n",
              "    <button class=\"colab-df-convert\" onclick=\"convertToInteractive('df-a8483ca9-a1a4-4259-a2b1-526c4069ef51')\"\n",
              "            title=\"Convert this dataframe to an interactive table.\"\n",
              "            style=\"display:none;\">\n",
              "\n",
              "  <svg xmlns=\"http://www.w3.org/2000/svg\" height=\"24px\" viewBox=\"0 -960 960 960\">\n",
              "    <path d=\"M120-120v-720h720v720H120Zm60-500h600v-160H180v160Zm220 220h160v-160H400v160Zm0 220h160v-160H400v160ZM180-400h160v-160H180v160Zm440 0h160v-160H620v160ZM180-180h160v-160H180v160Zm440 0h160v-160H620v160Z\"/>\n",
              "  </svg>\n",
              "    </button>\n",
              "\n",
              "  <style>\n",
              "    .colab-df-container {\n",
              "      display:flex;\n",
              "      gap: 12px;\n",
              "    }\n",
              "\n",
              "    .colab-df-convert {\n",
              "      background-color: #E8F0FE;\n",
              "      border: none;\n",
              "      border-radius: 50%;\n",
              "      cursor: pointer;\n",
              "      display: none;\n",
              "      fill: #1967D2;\n",
              "      height: 32px;\n",
              "      padding: 0 0 0 0;\n",
              "      width: 32px;\n",
              "    }\n",
              "\n",
              "    .colab-df-convert:hover {\n",
              "      background-color: #E2EBFA;\n",
              "      box-shadow: 0px 1px 2px rgba(60, 64, 67, 0.3), 0px 1px 3px 1px rgba(60, 64, 67, 0.15);\n",
              "      fill: #174EA6;\n",
              "    }\n",
              "\n",
              "    .colab-df-buttons div {\n",
              "      margin-bottom: 4px;\n",
              "    }\n",
              "\n",
              "    [theme=dark] .colab-df-convert {\n",
              "      background-color: #3B4455;\n",
              "      fill: #D2E3FC;\n",
              "    }\n",
              "\n",
              "    [theme=dark] .colab-df-convert:hover {\n",
              "      background-color: #434B5C;\n",
              "      box-shadow: 0px 1px 3px 1px rgba(0, 0, 0, 0.15);\n",
              "      filter: drop-shadow(0px 1px 2px rgba(0, 0, 0, 0.3));\n",
              "      fill: #FFFFFF;\n",
              "    }\n",
              "  </style>\n",
              "\n",
              "    <script>\n",
              "      const buttonEl =\n",
              "        document.querySelector('#df-a8483ca9-a1a4-4259-a2b1-526c4069ef51 button.colab-df-convert');\n",
              "      buttonEl.style.display =\n",
              "        google.colab.kernel.accessAllowed ? 'block' : 'none';\n",
              "\n",
              "      async function convertToInteractive(key) {\n",
              "        const element = document.querySelector('#df-a8483ca9-a1a4-4259-a2b1-526c4069ef51');\n",
              "        const dataTable =\n",
              "          await google.colab.kernel.invokeFunction('convertToInteractive',\n",
              "                                                    [key], {});\n",
              "        if (!dataTable) return;\n",
              "\n",
              "        const docLinkHtml = 'Like what you see? Visit the ' +\n",
              "          '<a target=\"_blank\" href=https://colab.research.google.com/notebooks/data_table.ipynb>data table notebook</a>'\n",
              "          + ' to learn more about interactive tables.';\n",
              "        element.innerHTML = '';\n",
              "        dataTable['output_type'] = 'display_data';\n",
              "        await google.colab.output.renderOutput(dataTable, element);\n",
              "        const docLink = document.createElement('div');\n",
              "        docLink.innerHTML = docLinkHtml;\n",
              "        element.appendChild(docLink);\n",
              "      }\n",
              "    </script>\n",
              "  </div>\n",
              "\n",
              "    </div>\n",
              "  </div>\n"
            ]
          },
          "metadata": {},
          "execution_count": 85
        }
      ]
    },
    {
      "cell_type": "code",
      "source": [
        "tab = Data.iloc[:,[1,3,9,10,11,12,15,23,24,25,30,32,34,36,47,48,26,27,35,53]]\n",
        "tab.head(1)"
      ],
      "metadata": {
        "id": "vcBEwyeCPzgS"
      },
      "execution_count": null,
      "outputs": []
    },
    {
      "cell_type": "code",
      "source": [
        "valores_nulos = tab.isnull().sum()\n",
        "valores_nulos"
      ],
      "metadata": {
        "id": "WB6XxZCWP7-D"
      },
      "execution_count": null,
      "outputs": []
    },
    {
      "cell_type": "code",
      "source": [
        "tab1 = tab.copy()"
      ],
      "metadata": {
        "id": "tVcfZjlAQCdY"
      },
      "execution_count": null,
      "outputs": []
    },
    {
      "cell_type": "code",
      "source": [
        "tab1[\"184_store_devices\"] = tab1[\"184_store_devices\"].fillna(method=\"bfill\")"
      ],
      "metadata": {
        "id": "a5Xzg946QIFc"
      },
      "execution_count": null,
      "outputs": []
    },
    {
      "cell_type": "code",
      "source": [
        "tab1[\"5_change_store_space_last_year\"] = tab1[\"5_change_store_space_last_year\"].fillna(method=\"ffill\")"
      ],
      "metadata": {
        "id": "jkTxSG66QTBp"
      },
      "execution_count": null,
      "outputs": []
    },
    {
      "cell_type": "code",
      "source": [
        "tab1[\"6_change_employees_average_salary_last_year\"]=tab1[\"6_change_employees_average_salary_last_year\"].fillna(method=\"ffill\")"
      ],
      "metadata": {
        "id": "nwKzR3ukQacn"
      },
      "execution_count": null,
      "outputs": []
    },
    {
      "cell_type": "code",
      "source": [
        "tab1[\"20_reviews_finances_monthly\"]=tab1[\"20_reviews_finances_monthly\"].fillna(method=\"ffill\")"
      ],
      "metadata": {
        "id": "T67J9g0pQgrF"
      },
      "execution_count": null,
      "outputs": []
    },
    {
      "cell_type": "code",
      "source": [
        "tab1[\"19_tax_id\"]=tab1[\"19_tax_id\"].fillna(method=\"ffill\")"
      ],
      "metadata": {
        "id": "C5dVs40ZQpSa"
      },
      "execution_count": null,
      "outputs": []
    },
    {
      "cell_type": "code",
      "source": [
        "tab1[\"310_burnout\"]=tab1[\"310_burnout\"].fillna(method=\"ffill\")"
      ],
      "metadata": {
        "id": "0iTC6djgRGfl"
      },
      "execution_count": null,
      "outputs": []
    },
    {
      "cell_type": "code",
      "source": [
        "tab1[\"186_internet_connection\"]=tab1[\"186_internet_connection\"].fillna(method=\"ffill\")"
      ],
      "metadata": {
        "id": "fhcKcoAsRAEQ"
      },
      "execution_count": null,
      "outputs": []
    },
    {
      "cell_type": "code",
      "source": [
        "tab1[\"189_payment_methods\"]=tab1[\"189_payment_methods\"].fillna(method=\"ffill\")"
      ],
      "metadata": {
        "id": "O-m3IcQ2ReeI"
      },
      "execution_count": null,
      "outputs": []
    },
    {
      "cell_type": "code",
      "source": [
        "tab1[\"214_customer_relationship_tools\"]=tab1[\"214_customer_relationship_tools\"].fillna(method=\"ffill\")"
      ],
      "metadata": {
        "id": "M994npHsReme"
      },
      "execution_count": null,
      "outputs": []
    },
    {
      "cell_type": "code",
      "source": [
        "tab1[\"33_credit_to_customers\"]=tab1[\"33_credit_to_customers\"].fillna(method=\"ffill\")"
      ],
      "metadata": {
        "id": "lO6mCh8hRetR"
      },
      "execution_count": null,
      "outputs": []
    },
    {
      "cell_type": "code",
      "source": [
        "tab1[\"49_inventory_records\"]=tab1[\"49_inventory_records\"].fillna(method=\"ffill\")"
      ],
      "metadata": {
        "id": "x_kiGj4yRezg"
      },
      "execution_count": null,
      "outputs": []
    },
    {
      "cell_type": "code",
      "source": [
        "tab1[\"18_sales_records\"]=tab1[\"18_sales_records\"].fillna(method=\"ffill\")"
      ],
      "metadata": {
        "id": "67-JFIYrRe5v"
      },
      "execution_count": null,
      "outputs": []
    },
    {
      "cell_type": "code",
      "source": [
        "tab1[\"210_sales_channels\"]=tab1[\"210_sales_channels\"].fillna(method=\"ffill\")"
      ],
      "metadata": {
        "id": "nojtUshcRfAl"
      },
      "execution_count": null,
      "outputs": []
    },
    {
      "cell_type": "code",
      "source": [
        "tab1[\"193_sales_planning_tools\"]=tab1[\"193_sales_planning_tools\"].fillna(method=\"ffill\")"
      ],
      "metadata": {
        "id": "6ltFiA4IRfGL"
      },
      "execution_count": null,
      "outputs": []
    },
    {
      "cell_type": "code",
      "source": [
        "valores_nulos = tab1.isnull().sum()\n",
        "valores_nulos"
      ],
      "metadata": {
        "id": "IUf8D0yHR-RL"
      },
      "execution_count": null,
      "outputs": []
    },
    {
      "cell_type": "code",
      "source": [
        "freq_tbl(tab1)"
      ],
      "metadata": {
        "id": "VrTceOWSS9Ef"
      },
      "execution_count": null,
      "outputs": []
    },
    {
      "cell_type": "code",
      "source": [
        "table1 = freq_tbl(tab1[\"_title\"])\n",
        "table1"
      ],
      "metadata": {
        "id": "TUNlD33jS_ci"
      },
      "execution_count": null,
      "outputs": []
    },
    {
      "cell_type": "code",
      "source": [
        "filtro = table1[table1[\"frequency\"]>1]\n",
        "filtro"
      ],
      "metadata": {
        "id": "TgJKMJYpTBeg"
      },
      "execution_count": null,
      "outputs": []
    },
    {
      "cell_type": "code",
      "source": [
        "filtro_index = filtro.set_index(\"_title\")\n",
        "filtro_index"
      ],
      "metadata": {
        "id": "TgBeeqTvTC7Y"
      },
      "execution_count": null,
      "outputs": []
    },
    {
      "cell_type": "code",
      "source": [
        "filtro_index.plot(kind = \"bar\", width = 1, figsize=(10,4))\n",
        "plt.title(\"Fecha de la encuesta\")\n",
        "plt.xlabel(\"Fecha\")\n",
        "plt.ylabel(\"Frecuencia\")"
      ],
      "metadata": {
        "id": "evq8fmL0TLUQ"
      },
      "execution_count": null,
      "outputs": []
    },
    {
      "cell_type": "code",
      "source": [
        "table2 = freq_tbl(tab1[\"_updated_by\"])\n",
        "table2"
      ],
      "metadata": {
        "id": "UcRyprfRUYVs"
      },
      "execution_count": null,
      "outputs": []
    },
    {
      "cell_type": "code",
      "source": [
        "f1 = table2[table2[\"frequency\"]>1]\n",
        "f1"
      ],
      "metadata": {
        "id": "FwIZ8NEQVNU0"
      },
      "execution_count": null,
      "outputs": []
    },
    {
      "cell_type": "code",
      "source": [
        "f1_index = f1.set_index(\"_updated_by\")\n",
        "f1_index"
      ],
      "metadata": {
        "id": "iskOLfRNVXG3"
      },
      "execution_count": null,
      "outputs": []
    },
    {
      "cell_type": "code",
      "source": [
        "f1_index.plot(\"frequency\", \"cumulative_perc\", kind = \"bar\")"
      ],
      "metadata": {
        "colab": {
          "base_uri": "https://localhost:8080/",
          "height": 473
        },
        "id": "oghi8-4WVgpu",
        "outputId": "5c7b86b2-8e22-4927-9e90-eda53e620fd0"
      },
      "execution_count": null,
      "outputs": [
        {
          "output_type": "execute_result",
          "data": {
            "text/plain": [
              "<Axes: xlabel='frequency'>"
            ]
          },
          "metadata": {},
          "execution_count": 97
        },
        {
          "output_type": "display_data",
          "data": {
            "text/plain": [
              "<Figure size 640x480 with 1 Axes>"
            ],
            "image/png": "[encoded data removed]"
          },
          "metadata": {}
        }
      ]
    },
    {
      "cell_type": "code",
      "source": [
        "table3 = freq_tbl(tab1[\"232_type_of_store\"])\n",
        "table3"
      ],
      "metadata": {
        "id": "XhyX56mqWtHw"
      },
      "execution_count": null,
      "outputs": []
    },
    {
      "cell_type": "code",
      "source": [
        "f3 = table3[table3[\"frequency\"]>1]\n",
        "f3"
      ],
      "metadata": {
        "colab": {
          "base_uri": "https://localhost:8080/",
          "height": 363
        },
        "id": "7r9NgT_mWzxe",
        "outputId": "c5cc7d1e-f3d1-4596-a4ff-6a6591dabc35"
      },
      "execution_count": null,
      "outputs": [
        {
          "output_type": "execute_result",
          "data": {
            "text/plain": [
              "                 232_type_of_store  frequency  percentage  cumulative_perc\n",
              "0   Grocery store (aka. nanostore)         52    0.304094         0.304094\n",
              "1  Micro-restaurant (aka. fondita)         31    0.181287         0.485380\n",
              "2                   Dairy products         10    0.058480         0.543860\n",
              "3                        Cafeteria          6    0.035088         0.578947\n",
              "4                     Butcher shop          6    0.035088         0.614035\n",
              "5    Produce (fruits & vegetables)          4    0.023392         0.637427\n",
              "6               Handmade products           2    0.011696         0.649123\n",
              "7                       Papelería           2    0.011696         0.660819\n",
              "8                         objetos           2    0.011696         0.672515\n",
              "9                      Ferretería           2    0.011696         0.684211"
            ],
            "text/html": [
              "\n",
              "  <div id=\"df-f8293175-0e46-4a8f-8512-8dbc2209ea03\" class=\"colab-df-container\">\n",
              "    <div>\n",
              "<style scoped>\n",
              "    .dataframe tbody tr th:only-of-type {\n",
              "        vertical-align: middle;\n",
              "    }\n",
              "\n",
              "    .dataframe tbody tr th {\n",
              "        vertical-align: top;\n",
              "    }\n",
              "\n",
              "    .dataframe thead th {\n",
              "        text-align: right;\n",
              "    }\n",
              "</style>\n",
              "<table border=\"1\" class=\"dataframe\">\n",
              "  <thead>\n",
              "    <tr style=\"text-align: right;\">\n",
              "      <th></th>\n",
              "      <th>232_type_of_store</th>\n",
              "      <th>frequency</th>\n",
              "      <th>percentage</th>\n",
              "      <th>cumulative_perc</th>\n",
              "    </tr>\n",
              "  </thead>\n",
              "  <tbody>\n",
              "    <tr>\n",
              "      <th>0</th>\n",
              "      <td>Grocery store (aka. nanostore)</td>\n",
              "      <td>52</td>\n",
              "      <td>0.304094</td>\n",
              "      <td>0.304094</td>\n",
              "    </tr>\n",
              "    <tr>\n",
              "      <th>1</th>\n",
              "      <td>Micro-restaurant (aka. fondita)</td>\n",
              "      <td>31</td>\n",
              "      <td>0.181287</td>\n",
              "      <td>0.485380</td>\n",
              "    </tr>\n",
              "    <tr>\n",
              "      <th>2</th>\n",
              "      <td>Dairy products</td>\n",
              "      <td>10</td>\n",
              "      <td>0.058480</td>\n",
              "      <td>0.543860</td>\n",
              "    </tr>\n",
              "    <tr>\n",
              "      <th>3</th>\n",
              "      <td>Cafeteria</td>\n",
              "      <td>6</td>\n",
              "      <td>0.035088</td>\n",
              "      <td>0.578947</td>\n",
              "    </tr>\n",
              "    <tr>\n",
              "      <th>4</th>\n",
              "      <td>Butcher shop</td>\n",
              "      <td>6</td>\n",
              "      <td>0.035088</td>\n",
              "      <td>0.614035</td>\n",
              "    </tr>\n",
              "    <tr>\n",
              "      <th>5</th>\n",
              "      <td>Produce (fruits &amp; vegetables)</td>\n",
              "      <td>4</td>\n",
              "      <td>0.023392</td>\n",
              "      <td>0.637427</td>\n",
              "    </tr>\n",
              "    <tr>\n",
              "      <th>6</th>\n",
              "      <td>Handmade products</td>\n",
              "      <td>2</td>\n",
              "      <td>0.011696</td>\n",
              "      <td>0.649123</td>\n",
              "    </tr>\n",
              "    <tr>\n",
              "      <th>7</th>\n",
              "      <td>Papelería</td>\n",
              "      <td>2</td>\n",
              "      <td>0.011696</td>\n",
              "      <td>0.660819</td>\n",
              "    </tr>\n",
              "    <tr>\n",
              "      <th>8</th>\n",
              "      <td>objetos</td>\n",
              "      <td>2</td>\n",
              "      <td>0.011696</td>\n",
              "      <td>0.672515</td>\n",
              "    </tr>\n",
              "    <tr>\n",
              "      <th>9</th>\n",
              "      <td>Ferretería</td>\n",
              "      <td>2</td>\n",
              "      <td>0.011696</td>\n",
              "      <td>0.684211</td>\n",
              "    </tr>\n",
              "  </tbody>\n",
              "</table>\n",
              "</div>\n",
              "    <div class=\"colab-df-buttons\">\n",
              "\n",
              "  <div class=\"colab-df-container\">\n",
              "    <button class=\"colab-df-convert\" onclick=\"convertToInteractive('df-f8293175-0e46-4a8f-8512-8dbc2209ea03')\"\n",
              "            title=\"Convert this dataframe to an interactive table.\"\n",
              "            style=\"display:none;\">\n",
              "\n",
              "  <svg xmlns=\"http://www.w3.org/2000/svg\" height=\"24px\" viewBox=\"0 -960 960 960\">\n",
              "    <path d=\"M120-120v-720h720v720H120Zm60-500h600v-160H180v160Zm220 220h160v-160H400v160Zm0 220h160v-160H400v160ZM180-400h160v-160H180v160Zm440 0h160v-160H620v160ZM180-180h160v-160H180v160Zm440 0h160v-160H620v160Z\"/>\n",
              "  </svg>\n",
              "    </button>\n",
              "\n",
              "  <style>\n",
              "    .colab-df-container {\n",
              "      display:flex;\n",
              "      gap: 12px;\n",
              "    }\n",
              "\n",
              "    .colab-df-convert {\n",
              "      background-color: #E8F0FE;\n",
              "      border: none;\n",
              "      border-radius: 50%;\n",
              "      cursor: pointer;\n",
              "      display: none;\n",
              "      fill: #1967D2;\n",
              "      height: 32px;\n",
              "      padding: 0 0 0 0;\n",
              "      width: 32px;\n",
              "    }\n",
              "\n",
              "    .colab-df-convert:hover {\n",
              "      background-color: #E2EBFA;\n",
              "      box-shadow: 0px 1px 2px rgba(60, 64, 67, 0.3), 0px 1px 3px 1px rgba(60, 64, 67, 0.15);\n",
              "      fill: #174EA6;\n",
              "    }\n",
              "\n",
              "    .colab-df-buttons div {\n",
              "      margin-bottom: 4px;\n",
              "    }\n",
              "\n",
              "    [theme=dark] .colab-df-convert {\n",
              "      background-color: #3B4455;\n",
              "      fill: #D2E3FC;\n",
              "    }\n",
              "\n",
              "    [theme=dark] .colab-df-convert:hover {\n",
              "      background-color: #434B5C;\n",
              "      box-shadow: 0px 1px 3px 1px rgba(0, 0, 0, 0.15);\n",
              "      filter: drop-shadow(0px 1px 2px rgba(0, 0, 0, 0.3));\n",
              "      fill: #FFFFFF;\n",
              "    }\n",
              "  </style>\n",
              "\n",
              "    <script>\n",
              "      const buttonEl =\n",
              "        document.querySelector('#df-f8293175-0e46-4a8f-8512-8dbc2209ea03 button.colab-df-convert');\n",
              "      buttonEl.style.display =\n",
              "        google.colab.kernel.accessAllowed ? 'block' : 'none';\n",
              "\n",
              "      async function convertToInteractive(key) {\n",
              "        const element = document.querySelector('#df-f8293175-0e46-4a8f-8512-8dbc2209ea03');\n",
              "        const dataTable =\n",
              "          await google.colab.kernel.invokeFunction('convertToInteractive',\n",
              "                                                    [key], {});\n",
              "        if (!dataTable) return;\n",
              "\n",
              "        const docLinkHtml = 'Like what you see? Visit the ' +\n",
              "          '<a target=\"_blank\" href=https://colab.research.google.com/notebooks/data_table.ipynb>data table notebook</a>'\n",
              "          + ' to learn more about interactive tables.';\n",
              "        element.innerHTML = '';\n",
              "        dataTable['output_type'] = 'display_data';\n",
              "        await google.colab.output.renderOutput(dataTable, element);\n",
              "        const docLink = document.createElement('div');\n",
              "        docLink.innerHTML = docLinkHtml;\n",
              "        element.appendChild(docLink);\n",
              "      }\n",
              "    </script>\n",
              "  </div>\n",
              "\n",
              "\n",
              "<div id=\"df-b167f3df-7029-4adc-a5ff-03377ad79bd9\">\n",
              "  <button class=\"colab-df-quickchart\" onclick=\"quickchart('df-b167f3df-7029-4adc-a5ff-03377ad79bd9')\"\n",
              "            title=\"Suggest charts\"\n",
              "            style=\"display:none;\">\n",
              "\n",
              "<svg xmlns=\"http://www.w3.org/2000/svg\" height=\"24px\"viewBox=\"0 0 24 24\"\n",
              "     width=\"24px\">\n",
              "    <g>\n",
              "        <path d=\"M19 3H5c-1.1 0-2 .9-2 2v14c0 1.1.9 2 2 2h14c1.1 0 2-.9 2-2V5c0-1.1-.9-2-2-2zM9 17H7v-7h2v7zm4 0h-2V7h2v10zm4 0h-2v-4h2v4z\"/>\n",
              "    </g>\n",
              "</svg>\n",
              "  </button>\n",
              "\n",
              "<style>\n",
              "  .colab-df-quickchart {\n",
              "      --bg-color: #E8F0FE;\n",
              "      --fill-color: #1967D2;\n",
              "      --hover-bg-color: #E2EBFA;\n",
              "      --hover-fill-color: #174EA6;\n",
              "      --disabled-fill-color: #AAA;\n",
              "      --disabled-bg-color: #DDD;\n",
              "  }\n",
              "\n",
              "  [theme=dark] .colab-df-quickchart {\n",
              "      --bg-color: #3B4455;\n",
              "      --fill-color: #D2E3FC;\n",
              "      --hover-bg-color: #434B5C;\n",
              "      --hover-fill-color: #FFFFFF;\n",
              "      --disabled-bg-color: #3B4455;\n",
              "      --disabled-fill-color: #666;\n",
              "  }\n",
              "\n",
              "  .colab-df-quickchart {\n",
              "    background-color: var(--bg-color);\n",
              "    border: none;\n",
              "    border-radius: 50%;\n",
              "    cursor: pointer;\n",
              "    display: none;\n",
              "    fill: var(--fill-color);\n",
              "    height: 32px;\n",
              "    padding: 0;\n",
              "    width: 32px;\n",
              "  }\n",
              "\n",
              "  .colab-df-quickchart:hover {\n",
              "    background-color: var(--hover-bg-color);\n",
              "    box-shadow: 0 1px 2px rgba(60, 64, 67, 0.3), 0 1px 3px 1px rgba(60, 64, 67, 0.15);\n",
              "    fill: var(--button-hover-fill-color);\n",
              "  }\n",
              "\n",
              "  .colab-df-quickchart-complete:disabled,\n",
              "  .colab-df-quickchart-complete:disabled:hover {\n",
              "    background-color: var(--disabled-bg-color);\n",
              "    fill: var(--disabled-fill-color);\n",
              "    box-shadow: none;\n",
              "  }\n",
              "\n",
              "  .colab-df-spinner {\n",
              "    border: 2px solid var(--fill-color);\n",
              "    border-color: transparent;\n",
              "    border-bottom-color: var(--fill-color);\n",
              "    animation:\n",
              "      spin 1s steps(1) infinite;\n",
              "  }\n",
              "\n",
              "  @keyframes spin {\n",
              "    0% {\n",
              "      border-color: transparent;\n",
              "      border-bottom-color: var(--fill-color);\n",
              "      border-left-color: var(--fill-color);\n",
              "    }\n",
              "    20% {\n",
              "      border-color: transparent;\n",
              "      border-left-color: var(--fill-color);\n",
              "      border-top-color: var(--fill-color);\n",
              "    }\n",
              "    30% {\n",
              "      border-color: transparent;\n",
              "      border-left-color: var(--fill-color);\n",
              "      border-top-color: var(--fill-color);\n",
              "      border-right-color: var(--fill-color);\n",
              "    }\n",
              "    40% {\n",
              "      border-color: transparent;\n",
              "      border-right-color: var(--fill-color);\n",
              "      border-top-color: var(--fill-color);\n",
              "    }\n",
              "    60% {\n",
              "      border-color: transparent;\n",
              "      border-right-color: var(--fill-color);\n",
              "    }\n",
              "    80% {\n",
              "      border-color: transparent;\n",
              "      border-right-color: var(--fill-color);\n",
              "      border-bottom-color: var(--fill-color);\n",
              "    }\n",
              "    90% {\n",
              "      border-color: transparent;\n",
              "      border-bottom-color: var(--fill-color);\n",
              "    }\n",
              "  }\n",
              "</style>\n",
              "\n",
              "  <script>\n",
              "    async function quickchart(key) {\n",
              "      const quickchartButtonEl =\n",
              "        document.querySelector('#' + key + ' button');\n",
              "      quickchartButtonEl.disabled = true;  // To prevent multiple clicks.\n",
              "      quickchartButtonEl.classList.add('colab-df-spinner');\n",
              "      try {\n",
              "        const charts = await google.colab.kernel.invokeFunction(\n",
              "            'suggestCharts', [key], {});\n",
              "      } catch (error) {\n",
              "        console.error('Error during call to suggestCharts:', error);\n",
              "      }\n",
              "      quickchartButtonEl.classList.remove('colab-df-spinner');\n",
              "      quickchartButtonEl.classList.add('colab-df-quickchart-complete');\n",
              "    }\n",
              "    (() => {\n",
              "      let quickchartButtonEl =\n",
              "        document.querySelector('#df-b167f3df-7029-4adc-a5ff-03377ad79bd9 button');\n",
              "      quickchartButtonEl.style.display =\n",
              "        google.colab.kernel.accessAllowed ? 'block' : 'none';\n",
              "    })();\n",
              "  </script>\n",
              "</div>\n",
              "    </div>\n",
              "  </div>\n"
            ]
          },
          "metadata": {},
          "execution_count": 100
        }
      ]
    },
    {
      "cell_type": "code",
      "source": [
        "f3_index = f3.set_index(\"232_type_of_store\")\n",
        "f3_index"
      ],
      "metadata": {
        "id": "pGtQizRuW0LV"
      },
      "execution_count": null,
      "outputs": []
    },
    {
      "cell_type": "code",
      "source": [
        "f3_index[\"frequency\"].plot(kind='pie', figsize=(10,5), shadow=True, autopct=\"%0.2f %%\") #esto último se refiere a un decimal"
      ],
      "metadata": {
        "id": "i7jgbUHSW1oo"
      },
      "execution_count": null,
      "outputs": []
    },
    {
      "cell_type": "code",
      "source": [
        "table4 = freq_tbl(tab1[\"108_does_the_micro_retailer_has_a_barred_window_\"])\n",
        "table4"
      ],
      "metadata": {
        "id": "xap7tEYFXSmH"
      },
      "execution_count": null,
      "outputs": []
    },
    {
      "cell_type": "code",
      "source": [
        "f4 = table4[table4[\"frequency\"]>1]\n",
        "f4"
      ],
      "metadata": {
        "id": "Yy_A7RT9XSr-"
      },
      "execution_count": null,
      "outputs": []
    },
    {
      "cell_type": "code",
      "source": [
        "f4_index = f4.set_index(\"108_does_the_micro_retailer_has_a_barred_window_\")\n",
        "f4_index"
      ],
      "metadata": {
        "id": "hL9JlkRVXSxB"
      },
      "execution_count": null,
      "outputs": []
    },
    {
      "cell_type": "code",
      "source": [
        "f4_index.plot(kind = \"bar\", width = 1, figsize=(10,4))\n",
        "plt.title(\"Ventanas enrejadas\")\n",
        "plt.xlabel(\"Tipo de Herramienta\")\n",
        "plt.ylabel(\"Frecuencia\")"
      ],
      "metadata": {
        "colab": {
          "base_uri": "https://localhost:8080/",
          "height": 437
        },
        "id": "wIdsZEbzXS3D",
        "outputId": "47567a0a-b111-4315-dbc2-69817fa7ebf7"
      },
      "execution_count": null,
      "outputs": [
        {
          "output_type": "execute_result",
          "data": {
            "text/plain": [
              "Text(0, 0.5, 'Frecuencia')"
            ]
          },
          "metadata": {},
          "execution_count": 117
        },
        {
          "output_type": "display_data",
          "data": {
            "text/plain": [
              "<Figure size 1000x400 with 1 Axes>"
            ],
            "image/png": "[encoded data removed]"
          },
          "metadata": {}
        }
      ]
    },
    {
      "cell_type": "code",
      "source": [
        "table5 = freq_tbl(tab1[\"99_does_the_micro_retailer_exhibits_products_outside_\"])\n",
        "table5"
      ],
      "metadata": {
        "id": "IfpU5mgPXsYX"
      },
      "execution_count": null,
      "outputs": []
    },
    {
      "cell_type": "code",
      "source": [
        "f5 = table5[table5[\"frequency\"]>1]\n",
        "f5"
      ],
      "metadata": {
        "id": "MjAd6cGHXsbb"
      },
      "execution_count": null,
      "outputs": []
    },
    {
      "cell_type": "code",
      "source": [
        "f5_index = f5.set_index(\"99_does_the_micro_retailer_exhibits_products_outside_\")\n",
        "f5_index"
      ],
      "metadata": {
        "id": "h_6afU6wXsfK"
      },
      "execution_count": null,
      "outputs": []
    },
    {
      "cell_type": "code",
      "source": [
        "f5_index[\"frequency\"].plot(kind='pie', figsize=(10,5), shadow=True, autopct=\"%0.3f %%\")"
      ],
      "metadata": {
        "id": "umEIROgMXsio"
      },
      "execution_count": null,
      "outputs": []
    },
    {
      "cell_type": "code",
      "source": [
        "table6 = freq_tbl(tab1[\"102_does_the_micro_retailer_sells_fresh_products_\"])\n",
        "table6"
      ],
      "metadata": {
        "id": "-PpxB9PxYTp1"
      },
      "execution_count": null,
      "outputs": []
    },
    {
      "cell_type": "code",
      "source": [
        "f6 = table6[table6[\"frequency\"]>1]\n",
        "f6"
      ],
      "metadata": {
        "id": "EJxqGu3PYTtv"
      },
      "execution_count": null,
      "outputs": []
    },
    {
      "cell_type": "code",
      "source": [
        "f6_index = f6.set_index(\"102_does_the_micro_retailer_sells_fresh_products_\")\n",
        "f6_index"
      ],
      "metadata": {
        "id": "G_ndSZL6YTym"
      },
      "execution_count": null,
      "outputs": []
    },
    {
      "cell_type": "code",
      "source": [
        "f4_index.plot(kind = \"bar\", width = 1, figsize=(10,4))\n",
        "plt.title(\"Productos frescos\")\n",
        "plt.xlabel(\".\")\n",
        "plt.ylabel(\"Frecuencia\")"
      ],
      "metadata": {
        "id": "iy1qT6MCYT3o"
      },
      "execution_count": null,
      "outputs": []
    },
    {
      "cell_type": "code",
      "source": [
        "table7 = freq_tbl(tab1[\"184_store_devices\"])\n",
        "table7"
      ],
      "metadata": {
        "id": "cPaCDbhTY5FG"
      },
      "execution_count": null,
      "outputs": []
    },
    {
      "cell_type": "code",
      "source": [
        "f7 = table7[table7[\"frequency\"]>1]\n",
        "f7"
      ],
      "metadata": {
        "id": "zx_ZeyF5Y5Ou"
      },
      "execution_count": null,
      "outputs": []
    },
    {
      "cell_type": "code",
      "source": [
        "f7_index = f7.set_index(\"184_store_devices\")\n",
        "f7_index"
      ],
      "metadata": {
        "id": "20jCSZ_ZY5UO"
      },
      "execution_count": null,
      "outputs": []
    },
    {
      "cell_type": "code",
      "source": [
        "f7_index.plot.hexbin(\"frequency\", \"cumulative_perc\", figsize=(10,5))"
      ],
      "metadata": {
        "id": "XpnyJ53-Y5ZE"
      },
      "execution_count": null,
      "outputs": []
    },
    {
      "cell_type": "code",
      "source": [
        "table8 = freq_tbl(tab1[\"5_change_store_space_last_year\"])\n",
        "table8"
      ],
      "metadata": {
        "id": "jS7jojfZZS9J"
      },
      "execution_count": null,
      "outputs": []
    },
    {
      "cell_type": "code",
      "source": [
        "f8 = table8[table8[\"frequency\"]>1]\n",
        "f8"
      ],
      "metadata": {
        "id": "9BYmsjGRZTBp"
      },
      "execution_count": null,
      "outputs": []
    },
    {
      "cell_type": "code",
      "source": [
        "f8_index = f8.set_index(\"5_change_store_space_last_year\")\n",
        "f8_index"
      ],
      "metadata": {
        "id": "YvUFY_TrZTGi"
      },
      "execution_count": null,
      "outputs": []
    },
    {
      "cell_type": "code",
      "source": [
        "f8_index.plot(kind='area', figsize=(10,4),alpha = 1)"
      ],
      "metadata": {
        "id": "ZZrL6pHXZTMw"
      },
      "execution_count": null,
      "outputs": []
    },
    {
      "cell_type": "code",
      "source": [
        "table9 = freq_tbl(tab1[\"6_change_employees_average_salary_last_year\"])\n",
        "table9"
      ],
      "metadata": {
        "id": "31QwTS_XZtwD"
      },
      "execution_count": null,
      "outputs": []
    },
    {
      "cell_type": "code",
      "source": [
        "f9 = table9[table9[\"frequency\"]>1]\n",
        "f9"
      ],
      "metadata": {
        "id": "feqET5iTZty3"
      },
      "execution_count": null,
      "outputs": []
    },
    {
      "cell_type": "code",
      "source": [
        "f9_index = f9.set_index(\"6_change_employees_average_salary_last_year\")\n",
        "f9_index"
      ],
      "metadata": {
        "id": "yxdQICKFZt2x"
      },
      "execution_count": null,
      "outputs": []
    },
    {
      "cell_type": "code",
      "source": [
        "f9_index.plot(\"frequency\", \"cumulative_perc\", kind = \"bar\")"
      ],
      "metadata": {
        "id": "Bwh87upaZuC-"
      },
      "execution_count": null,
      "outputs": []
    },
    {
      "cell_type": "code",
      "source": [
        "table10 = freq_tbl(tab1[\"20_reviews_finances_monthly\"])\n",
        "table10"
      ],
      "metadata": {
        "id": "WNk74sgCaFGO"
      },
      "execution_count": null,
      "outputs": []
    },
    {
      "cell_type": "code",
      "source": [
        "f10 = table10[table10[\"frequency\"]>1]\n",
        "f10"
      ],
      "metadata": {
        "id": "JGiZ-8mvaF88"
      },
      "execution_count": null,
      "outputs": []
    },
    {
      "cell_type": "code",
      "source": [
        "f10_index = f10.set_index(\"20_reviews_finances_monthly\")\n",
        "f10_index"
      ],
      "metadata": {
        "id": "Y21diNEEaFVL"
      },
      "execution_count": null,
      "outputs": []
    },
    {
      "cell_type": "code",
      "source": [
        "f10_index[\"frequency\"].plot(kind='pie', figsize=(10,5), shadow=True, autopct=\"%0.1f %%\")"
      ],
      "metadata": {
        "id": "1ONathqaZuHS"
      },
      "execution_count": null,
      "outputs": []
    },
    {
      "cell_type": "code",
      "source": [
        "table11 = freq_tbl(tab1[\"19_tax_id\"])\n",
        "table11"
      ],
      "metadata": {
        "id": "i9n9qeMlaZZ_"
      },
      "execution_count": null,
      "outputs": []
    },
    {
      "cell_type": "code",
      "source": [
        "f11 = table11[table11[\"frequency\"]>1]\n",
        "f11"
      ],
      "metadata": {
        "id": "9SsFDtB2aZhi"
      },
      "execution_count": null,
      "outputs": []
    },
    {
      "cell_type": "code",
      "source": [
        "f11_index = f11.set_index(\"19_tax_id\")\n",
        "f11_index"
      ],
      "metadata": {
        "id": "yAP-sGP3aZrM"
      },
      "execution_count": null,
      "outputs": []
    },
    {
      "cell_type": "code",
      "source": [
        "f11_index[\"frequency\"].plot(kind='pie', figsize=(10,5), shadow=True, autopct=\"%0.5f %%\")"
      ],
      "metadata": {
        "id": "T_BJEzv4aZzw"
      },
      "execution_count": null,
      "outputs": []
    },
    {
      "cell_type": "code",
      "source": [
        "table12 = freq_tbl(tab1[\"310_burnout\"])\n",
        "table12"
      ],
      "metadata": {
        "id": "Nss-1hlhasG6"
      },
      "execution_count": null,
      "outputs": []
    },
    {
      "cell_type": "code",
      "source": [
        "f12 = table12[table12[\"frequency\"]>1]\n",
        "f12"
      ],
      "metadata": {
        "id": "kL2xRC9GasLg"
      },
      "execution_count": null,
      "outputs": []
    },
    {
      "cell_type": "code",
      "source": [
        "f12_index = f12.set_index(\"310_burnout\")\n",
        "f12_index"
      ],
      "metadata": {
        "id": "XNBmCB3vasTl"
      },
      "execution_count": null,
      "outputs": []
    },
    {
      "cell_type": "code",
      "source": [
        "f12_index.plot(kind = \"bar\", width = 1, figsize=(10,4))\n",
        "plt.title(\"Burnout\")\n",
        "plt.xlabel(\"Opción\")\n",
        "plt.ylabel(\"Frecuencia\")"
      ],
      "metadata": {
        "id": "Zg-c1u7uasZI"
      },
      "execution_count": null,
      "outputs": []
    },
    {
      "cell_type": "code",
      "source": [
        "table13 = freq_tbl(tab1[\"186_internet_connection\"])\n",
        "table13"
      ],
      "metadata": {
        "id": "5gZe9lmNbAuP"
      },
      "execution_count": null,
      "outputs": []
    },
    {
      "cell_type": "code",
      "source": [
        "f13 = table13[table13[\"frequency\"]>1]\n",
        "f13"
      ],
      "metadata": {
        "id": "gm1qYSRHbA01"
      },
      "execution_count": null,
      "outputs": []
    },
    {
      "cell_type": "code",
      "source": [
        "f13_index = f13.set_index(\"186_internet_connection\")\n",
        "f13_index"
      ],
      "metadata": {
        "id": "94K8GC8tbA8v"
      },
      "execution_count": null,
      "outputs": []
    },
    {
      "cell_type": "code",
      "source": [
        "f13_index[\"frequency\"].plot(kind='pie', figsize=(10,5), shadow=True, autopct=\"%0.3f %%\")"
      ],
      "metadata": {
        "id": "1PIW1lLabBCL"
      },
      "execution_count": null,
      "outputs": []
    },
    {
      "cell_type": "code",
      "source": [
        "table14 = freq_tbl(tab1[\"189_payment_methods\"])\n",
        "table14"
      ],
      "metadata": {
        "id": "eTkj2fQDbXBX"
      },
      "execution_count": null,
      "outputs": []
    },
    {
      "cell_type": "code",
      "source": [
        "f14 = table14[table14[\"frequency\"]>1]\n",
        "f14"
      ],
      "metadata": {
        "id": "PFiPMxCrbXE_"
      },
      "execution_count": null,
      "outputs": []
    },
    {
      "cell_type": "code",
      "source": [
        "f14_index = f14.set_index(\"189_payment_methods\")\n",
        "f14_index"
      ],
      "metadata": {
        "id": "YgbaTE9QbXNy"
      },
      "execution_count": null,
      "outputs": []
    },
    {
      "cell_type": "code",
      "source": [
        "f14_index.plot.hexbin(\"frequency\", \"cumulative_perc\", figsize=(10,5))"
      ],
      "metadata": {
        "id": "keYu9ZnQbXSa"
      },
      "execution_count": null,
      "outputs": []
    },
    {
      "cell_type": "code",
      "source": [
        "table15 = freq_tbl(tab1[\"214_customer_relationship_tools\"])\n",
        "table15"
      ],
      "metadata": {
        "id": "22ASjzxRbpYw"
      },
      "execution_count": null,
      "outputs": []
    },
    {
      "cell_type": "code",
      "source": [
        "f15 = table15[table15[\"frequency\"]>1]\n",
        "f15"
      ],
      "metadata": {
        "id": "VL-M-G91bpfB"
      },
      "execution_count": null,
      "outputs": []
    },
    {
      "cell_type": "code",
      "source": [
        "f15_index = f15.set_index(\"214_customer_relationship_tools\")\n",
        "f15_index"
      ],
      "metadata": {
        "id": "J1t2gpF5bplp"
      },
      "execution_count": null,
      "outputs": []
    },
    {
      "cell_type": "code",
      "source": [
        "f15_index.plot(\"frequency\", \"cumulative_perc\", kind = \"bar\")"
      ],
      "metadata": {
        "id": "jWGh5FqLbpqy"
      },
      "execution_count": null,
      "outputs": []
    },
    {
      "cell_type": "code",
      "source": [
        "table16 = freq_tbl(tab1[\"33_credit_to_customers\"])\n",
        "table16"
      ],
      "metadata": {
        "id": "uahAStWJb4-q"
      },
      "execution_count": null,
      "outputs": []
    },
    {
      "cell_type": "code",
      "source": [
        "f16 = table16[table16[\"frequency\"]>1]\n",
        "f16"
      ],
      "metadata": {
        "id": "nX71X0U-b5DG"
      },
      "execution_count": null,
      "outputs": []
    },
    {
      "cell_type": "code",
      "source": [
        "f16_index = f16.set_index(\"33_credit_to_customers\")\n",
        "f16_index"
      ],
      "metadata": {
        "id": "-u5_crySb5Ln"
      },
      "execution_count": null,
      "outputs": []
    },
    {
      "cell_type": "code",
      "source": [
        "f16_index[\"frequency\"].plot(kind='pie', figsize=(10,5), shadow=True, autopct=\"%0.1f %%\")"
      ],
      "metadata": {
        "id": "6WvauWlTb5RZ"
      },
      "execution_count": null,
      "outputs": []
    },
    {
      "cell_type": "code",
      "source": [
        "table17 = freq_tbl(tab1[\"49_inventory_records\"])\n",
        "table17"
      ],
      "metadata": {
        "id": "6ZnZ7zjlcYzX"
      },
      "execution_count": null,
      "outputs": []
    },
    {
      "cell_type": "code",
      "source": [
        "f17 = table17[table17[\"frequency\"]>1]\n",
        "f17"
      ],
      "metadata": {
        "id": "VKWobUoicY6_"
      },
      "execution_count": null,
      "outputs": []
    },
    {
      "cell_type": "code",
      "source": [
        "f17_index = f17.set_index(\"49_inventory_records\")\n",
        "f17_index"
      ],
      "metadata": {
        "id": "_8UEsAAQcZCA"
      },
      "execution_count": null,
      "outputs": []
    },
    {
      "cell_type": "code",
      "source": [
        "f17_index[\"frequency\"].plot(kind='pie', figsize=(10,5), shadow=True, autopct=\"%0.1f %%\")"
      ],
      "metadata": {
        "id": "8duBJC3fcZI0"
      },
      "execution_count": null,
      "outputs": []
    },
    {
      "cell_type": "code",
      "source": [
        "table18 = freq_tbl(tab1[\"18_sales_records\"])\n",
        "table18"
      ],
      "metadata": {
        "id": "7CEG-2nzc6_-"
      },
      "execution_count": null,
      "outputs": []
    },
    {
      "cell_type": "code",
      "source": [
        "f18 = table18[table18[\"frequency\"]>1]\n",
        "f18"
      ],
      "metadata": {
        "id": "2h4eecUvc7EW"
      },
      "execution_count": null,
      "outputs": []
    },
    {
      "cell_type": "code",
      "source": [
        "f18_index = f18.set_index(\"18_sales_records\")\n",
        "f18_index"
      ],
      "metadata": {
        "id": "tNzdgfoxc7JS"
      },
      "execution_count": null,
      "outputs": []
    },
    {
      "cell_type": "code",
      "source": [
        "f18_index[\"frequency\"].plot(kind='pie', figsize=(10,5), shadow=True, autopct=\"%0.3f %%\")"
      ],
      "metadata": {
        "colab": {
          "base_uri": "https://localhost:8080/",
          "height": 372
        },
        "id": "z7RtTorxc7M8",
        "outputId": "3b700e57-8941-4bbd-9e23-2291af3d1c08"
      },
      "execution_count": null,
      "outputs": [
        {
          "output_type": "execute_result",
          "data": {
            "text/plain": [
              "<Axes: ylabel='frequency'>"
            ]
          },
          "metadata": {},
          "execution_count": 171
        },
        {
          "output_type": "display_data",
          "data": {
            "text/plain": [
              "<Figure size 1000x500 with 1 Axes>"
            ],
            "image/png": "[encoded data removed]"
          },
          "metadata": {}
        }
      ]
    },
    {
      "cell_type": "code",
      "source": [
        "table19 = freq_tbl(tab1[\"210_sales_channels\"])\n",
        "table19"
      ],
      "metadata": {
        "id": "E1FCs_aOdQdm"
      },
      "execution_count": null,
      "outputs": []
    },
    {
      "cell_type": "code",
      "source": [
        "f19 = table19[table19[\"frequency\"]>1]\n",
        "f19"
      ],
      "metadata": {
        "id": "bDFP4vRDdQgp"
      },
      "execution_count": null,
      "outputs": []
    },
    {
      "cell_type": "code",
      "source": [
        "f19_index = f19.set_index(\"210_sales_channels\")\n",
        "f19_index"
      ],
      "metadata": {
        "id": "r8HvjjczdQq5",
        "colab": {
          "base_uri": "https://localhost:8080/",
          "height": 708
        },
        "outputId": "eee0ad8e-e66c-4329-ecb6-09e5f40f5416"
      },
      "execution_count": 176,
      "outputs": [
        {
          "output_type": "execute_result",
          "data": {
            "text/plain": [
              "                                                    frequency  percentage  \\\n",
              "210_sales_channels                                                          \n",
              "Redes sociales (e.g. Facebook, Instagram),WhatsApp         26    0.152047   \n",
              "WhatsApp                                                   22    0.128655   \n",
              "Redes sociales (e.g. Facebook, Instagram)                  20    0.116959   \n",
              "Llamada a Teléfono fijo                                    12    0.070175   \n",
              "conocidos paquetes cerrados                                10    0.058480   \n",
              "Llamada a Teléfono celular,WhatsApp                         8    0.046784   \n",
              "Llamada a Teléfono celular                                  7    0.040936   \n",
              "Página web propia,WhatsApp                                  7    0.040936   \n",
              "Llamada a Teléfono celular,Redes sociales (e.g....          7    0.040936   \n",
              "Página web propia,Redes sociales (e.g. Facebook...          7    0.040936   \n",
              "Llamada a Teléfono fijo,Redes sociales (e.g. Fa...          6    0.035088   \n",
              "Página web propia                                           5    0.029240   \n",
              "Ninguno                                                     5    0.029240   \n",
              "Llamada a Teléfono celular,Página web propia,Re...          4    0.023392   \n",
              "Llamada a Teléfono celular,Llamada a Teléfono f...          4    0.023392   \n",
              "Solo físico                                                 3    0.017544   \n",
              "Aplicación móvil (e.g. Rappi, Uber Eats),Llamad...          3    0.017544   \n",
              "no                                                          2    0.011696   \n",
              "Aplicación móvil (e.g. Rappi, Uber Eats)                    2    0.011696   \n",
              "Llamada a Teléfono celular,Llamada a Teléfono f...          2    0.011696   \n",
              "\n",
              "                                                    cumulative_perc  \n",
              "210_sales_channels                                                   \n",
              "Redes sociales (e.g. Facebook, Instagram),WhatsApp         0.152047  \n",
              "WhatsApp                                                   0.280702  \n",
              "Redes sociales (e.g. Facebook, Instagram)                  0.397661  \n",
              "Llamada a Teléfono fijo                                    0.467836  \n",
              "conocidos paquetes cerrados                                0.526316  \n",
              "Llamada a Teléfono celular,WhatsApp                        0.573099  \n",
              "Llamada a Teléfono celular                                 0.614035  \n",
              "Página web propia,WhatsApp                                 0.654971  \n",
              "Llamada a Teléfono celular,Redes sociales (e.g....         0.695906  \n",
              "Página web propia,Redes sociales (e.g. Facebook...         0.736842  \n",
              "Llamada a Teléfono fijo,Redes sociales (e.g. Fa...         0.771930  \n",
              "Página web propia                                          0.801170  \n",
              "Ninguno                                                    0.830409  \n",
              "Llamada a Teléfono celular,Página web propia,Re...         0.853801  \n",
              "Llamada a Teléfono celular,Llamada a Teléfono f...         0.877193  \n",
              "Solo físico                                                0.894737  \n",
              "Aplicación móvil (e.g. Rappi, Uber Eats),Llamad...         0.912281  \n",
              "no                                                         0.923977  \n",
              "Aplicación móvil (e.g. Rappi, Uber Eats)                   0.935673  \n",
              "Llamada a Teléfono celular,Llamada a Teléfono f...         0.947368  "
            ],
            "text/html": [
              "\n",
              "  <div id=\"df-5ae72f52-1d3b-4865-99bb-b49a62b60aa9\" class=\"colab-df-container\">\n",
              "    <div>\n",
              "<style scoped>\n",
              "    .dataframe tbody tr th:only-of-type {\n",
              "        vertical-align: middle;\n",
              "    }\n",
              "\n",
              "    .dataframe tbody tr th {\n",
              "        vertical-align: top;\n",
              "    }\n",
              "\n",
              "    .dataframe thead th {\n",
              "        text-align: right;\n",
              "    }\n",
              "</style>\n",
              "<table border=\"1\" class=\"dataframe\">\n",
              "  <thead>\n",
              "    <tr style=\"text-align: right;\">\n",
              "      <th></th>\n",
              "      <th>frequency</th>\n",
              "      <th>percentage</th>\n",
              "      <th>cumulative_perc</th>\n",
              "    </tr>\n",
              "    <tr>\n",
              "      <th>210_sales_channels</th>\n",
              "      <th></th>\n",
              "      <th></th>\n",
              "      <th></th>\n",
              "    </tr>\n",
              "  </thead>\n",
              "  <tbody>\n",
              "    <tr>\n",
              "      <th>Redes sociales (e.g. Facebook, Instagram),WhatsApp</th>\n",
              "      <td>26</td>\n",
              "      <td>0.152047</td>\n",
              "      <td>0.152047</td>\n",
              "    </tr>\n",
              "    <tr>\n",
              "      <th>WhatsApp</th>\n",
              "      <td>22</td>\n",
              "      <td>0.128655</td>\n",
              "      <td>0.280702</td>\n",
              "    </tr>\n",
              "    <tr>\n",
              "      <th>Redes sociales (e.g. Facebook, Instagram)</th>\n",
              "      <td>20</td>\n",
              "      <td>0.116959</td>\n",
              "      <td>0.397661</td>\n",
              "    </tr>\n",
              "    <tr>\n",
              "      <th>Llamada a Teléfono fijo</th>\n",
              "      <td>12</td>\n",
              "      <td>0.070175</td>\n",
              "      <td>0.467836</td>\n",
              "    </tr>\n",
              "    <tr>\n",
              "      <th>conocidos paquetes cerrados</th>\n",
              "      <td>10</td>\n",
              "      <td>0.058480</td>\n",
              "      <td>0.526316</td>\n",
              "    </tr>\n",
              "    <tr>\n",
              "      <th>Llamada a Teléfono celular,WhatsApp</th>\n",
              "      <td>8</td>\n",
              "      <td>0.046784</td>\n",
              "      <td>0.573099</td>\n",
              "    </tr>\n",
              "    <tr>\n",
              "      <th>Llamada a Teléfono celular</th>\n",
              "      <td>7</td>\n",
              "      <td>0.040936</td>\n",
              "      <td>0.614035</td>\n",
              "    </tr>\n",
              "    <tr>\n",
              "      <th>Página web propia,WhatsApp</th>\n",
              "      <td>7</td>\n",
              "      <td>0.040936</td>\n",
              "      <td>0.654971</td>\n",
              "    </tr>\n",
              "    <tr>\n",
              "      <th>Llamada a Teléfono celular,Redes sociales (e.g. Facebook, Instagram),WhatsApp</th>\n",
              "      <td>7</td>\n",
              "      <td>0.040936</td>\n",
              "      <td>0.695906</td>\n",
              "    </tr>\n",
              "    <tr>\n",
              "      <th>Página web propia,Redes sociales (e.g. Facebook, Instagram),WhatsApp</th>\n",
              "      <td>7</td>\n",
              "      <td>0.040936</td>\n",
              "      <td>0.736842</td>\n",
              "    </tr>\n",
              "    <tr>\n",
              "      <th>Llamada a Teléfono fijo,Redes sociales (e.g. Facebook, Instagram),WhatsApp</th>\n",
              "      <td>6</td>\n",
              "      <td>0.035088</td>\n",
              "      <td>0.771930</td>\n",
              "    </tr>\n",
              "    <tr>\n",
              "      <th>Página web propia</th>\n",
              "      <td>5</td>\n",
              "      <td>0.029240</td>\n",
              "      <td>0.801170</td>\n",
              "    </tr>\n",
              "    <tr>\n",
              "      <th>Ninguno</th>\n",
              "      <td>5</td>\n",
              "      <td>0.029240</td>\n",
              "      <td>0.830409</td>\n",
              "    </tr>\n",
              "    <tr>\n",
              "      <th>Llamada a Teléfono celular,Página web propia,Redes sociales (e.g. Facebook, Instagram),WhatsApp</th>\n",
              "      <td>4</td>\n",
              "      <td>0.023392</td>\n",
              "      <td>0.853801</td>\n",
              "    </tr>\n",
              "    <tr>\n",
              "      <th>Llamada a Teléfono celular,Llamada a Teléfono fijo,Redes sociales (e.g. Facebook, Instagram),WhatsApp</th>\n",
              "      <td>4</td>\n",
              "      <td>0.023392</td>\n",
              "      <td>0.877193</td>\n",
              "    </tr>\n",
              "    <tr>\n",
              "      <th>Solo físico</th>\n",
              "      <td>3</td>\n",
              "      <td>0.017544</td>\n",
              "      <td>0.894737</td>\n",
              "    </tr>\n",
              "    <tr>\n",
              "      <th>Aplicación móvil (e.g. Rappi, Uber Eats),Llamada a Teléfono fijo,Redes sociales (e.g. Facebook, Instagram),WhatsApp</th>\n",
              "      <td>3</td>\n",
              "      <td>0.017544</td>\n",
              "      <td>0.912281</td>\n",
              "    </tr>\n",
              "    <tr>\n",
              "      <th>no</th>\n",
              "      <td>2</td>\n",
              "      <td>0.011696</td>\n",
              "      <td>0.923977</td>\n",
              "    </tr>\n",
              "    <tr>\n",
              "      <th>Aplicación móvil (e.g. Rappi, Uber Eats)</th>\n",
              "      <td>2</td>\n",
              "      <td>0.011696</td>\n",
              "      <td>0.935673</td>\n",
              "    </tr>\n",
              "    <tr>\n",
              "      <th>Llamada a Teléfono celular,Llamada a Teléfono fijo,WhatsApp</th>\n",
              "      <td>2</td>\n",
              "      <td>0.011696</td>\n",
              "      <td>0.947368</td>\n",
              "    </tr>\n",
              "  </tbody>\n",
              "</table>\n",
              "</div>\n",
              "    <div class=\"colab-df-buttons\">\n",
              "\n",
              "  <div class=\"colab-df-container\">\n",
              "    <button class=\"colab-df-convert\" onclick=\"convertToInteractive('df-5ae72f52-1d3b-4865-99bb-b49a62b60aa9')\"\n",
              "            title=\"Convert this dataframe to an interactive table.\"\n",
              "            style=\"display:none;\">\n",
              "\n",
              "  <svg xmlns=\"http://www.w3.org/2000/svg\" height=\"24px\" viewBox=\"0 -960 960 960\">\n",
              "    <path d=\"M120-120v-720h720v720H120Zm60-500h600v-160H180v160Zm220 220h160v-160H400v160Zm0 220h160v-160H400v160ZM180-400h160v-160H180v160Zm440 0h160v-160H620v160ZM180-180h160v-160H180v160Zm440 0h160v-160H620v160Z\"/>\n",
              "  </svg>\n",
              "    </button>\n",
              "\n",
              "  <style>\n",
              "    .colab-df-container {\n",
              "      display:flex;\n",
              "      gap: 12px;\n",
              "    }\n",
              "\n",
              "    .colab-df-convert {\n",
              "      background-color: #E8F0FE;\n",
              "      border: none;\n",
              "      border-radius: 50%;\n",
              "      cursor: pointer;\n",
              "      display: none;\n",
              "      fill: #1967D2;\n",
              "      height: 32px;\n",
              "      padding: 0 0 0 0;\n",
              "      width: 32px;\n",
              "    }\n",
              "\n",
              "    .colab-df-convert:hover {\n",
              "      background-color: #E2EBFA;\n",
              "      box-shadow: 0px 1px 2px rgba(60, 64, 67, 0.3), 0px 1px 3px 1px rgba(60, 64, 67, 0.15);\n",
              "      fill: #174EA6;\n",
              "    }\n",
              "\n",
              "    .colab-df-buttons div {\n",
              "      margin-bottom: 4px;\n",
              "    }\n",
              "\n",
              "    [theme=dark] .colab-df-convert {\n",
              "      background-color: #3B4455;\n",
              "      fill: #D2E3FC;\n",
              "    }\n",
              "\n",
              "    [theme=dark] .colab-df-convert:hover {\n",
              "      background-color: #434B5C;\n",
              "      box-shadow: 0px 1px 3px 1px rgba(0, 0, 0, 0.15);\n",
              "      filter: drop-shadow(0px 1px 2px rgba(0, 0, 0, 0.3));\n",
              "      fill: #FFFFFF;\n",
              "    }\n",
              "  </style>\n",
              "\n",
              "    <script>\n",
              "      const buttonEl =\n",
              "        document.querySelector('#df-5ae72f52-1d3b-4865-99bb-b49a62b60aa9 button.colab-df-convert');\n",
              "      buttonEl.style.display =\n",
              "        google.colab.kernel.accessAllowed ? 'block' : 'none';\n",
              "\n",
              "      async function convertToInteractive(key) {\n",
              "        const element = document.querySelector('#df-5ae72f52-1d3b-4865-99bb-b49a62b60aa9');\n",
              "        const dataTable =\n",
              "          await google.colab.kernel.invokeFunction('convertToInteractive',\n",
              "                                                    [key], {});\n",
              "        if (!dataTable) return;\n",
              "\n",
              "        const docLinkHtml = 'Like what you see? Visit the ' +\n",
              "          '<a target=\"_blank\" href=https://colab.research.google.com/notebooks/data_table.ipynb>data table notebook</a>'\n",
              "          + ' to learn more about interactive tables.';\n",
              "        element.innerHTML = '';\n",
              "        dataTable['output_type'] = 'display_data';\n",
              "        await google.colab.output.renderOutput(dataTable, element);\n",
              "        const docLink = document.createElement('div');\n",
              "        docLink.innerHTML = docLinkHtml;\n",
              "        element.appendChild(docLink);\n",
              "      }\n",
              "    </script>\n",
              "  </div>\n",
              "\n",
              "\n",
              "<div id=\"df-c6d53f5c-f2d6-44c1-bc0e-20147118953b\">\n",
              "  <button class=\"colab-df-quickchart\" onclick=\"quickchart('df-c6d53f5c-f2d6-44c1-bc0e-20147118953b')\"\n",
              "            title=\"Suggest charts\"\n",
              "            style=\"display:none;\">\n",
              "\n",
              "<svg xmlns=\"http://www.w3.org/2000/svg\" height=\"24px\"viewBox=\"0 0 24 24\"\n",
              "     width=\"24px\">\n",
              "    <g>\n",
              "        <path d=\"M19 3H5c-1.1 0-2 .9-2 2v14c0 1.1.9 2 2 2h14c1.1 0 2-.9 2-2V5c0-1.1-.9-2-2-2zM9 17H7v-7h2v7zm4 0h-2V7h2v10zm4 0h-2v-4h2v4z\"/>\n",
              "    </g>\n",
              "</svg>\n",
              "  </button>\n",
              "\n",
              "<style>\n",
              "  .colab-df-quickchart {\n",
              "      --bg-color: #E8F0FE;\n",
              "      --fill-color: #1967D2;\n",
              "      --hover-bg-color: #E2EBFA;\n",
              "      --hover-fill-color: #174EA6;\n",
              "      --disabled-fill-color: #AAA;\n",
              "      --disabled-bg-color: #DDD;\n",
              "  }\n",
              "\n",
              "  [theme=dark] .colab-df-quickchart {\n",
              "      --bg-color: #3B4455;\n",
              "      --fill-color: #D2E3FC;\n",
              "      --hover-bg-color: #434B5C;\n",
              "      --hover-fill-color: #FFFFFF;\n",
              "      --disabled-bg-color: #3B4455;\n",
              "      --disabled-fill-color: #666;\n",
              "  }\n",
              "\n",
              "  .colab-df-quickchart {\n",
              "    background-color: var(--bg-color);\n",
              "    border: none;\n",
              "    border-radius: 50%;\n",
              "    cursor: pointer;\n",
              "    display: none;\n",
              "    fill: var(--fill-color);\n",
              "    height: 32px;\n",
              "    padding: 0;\n",
              "    width: 32px;\n",
              "  }\n",
              "\n",
              "  .colab-df-quickchart:hover {\n",
              "    background-color: var(--hover-bg-color);\n",
              "    box-shadow: 0 1px 2px rgba(60, 64, 67, 0.3), 0 1px 3px 1px rgba(60, 64, 67, 0.15);\n",
              "    fill: var(--button-hover-fill-color);\n",
              "  }\n",
              "\n",
              "  .colab-df-quickchart-complete:disabled,\n",
              "  .colab-df-quickchart-complete:disabled:hover {\n",
              "    background-color: var(--disabled-bg-color);\n",
              "    fill: var(--disabled-fill-color);\n",
              "    box-shadow: none;\n",
              "  }\n",
              "\n",
              "  .colab-df-spinner {\n",
              "    border: 2px solid var(--fill-color);\n",
              "    border-color: transparent;\n",
              "    border-bottom-color: var(--fill-color);\n",
              "    animation:\n",
              "      spin 1s steps(1) infinite;\n",
              "  }\n",
              "\n",
              "  @keyframes spin {\n",
              "    0% {\n",
              "      border-color: transparent;\n",
              "      border-bottom-color: var(--fill-color);\n",
              "      border-left-color: var(--fill-color);\n",
              "    }\n",
              "    20% {\n",
              "      border-color: transparent;\n",
              "      border-left-color: var(--fill-color);\n",
              "      border-top-color: var(--fill-color);\n",
              "    }\n",
              "    30% {\n",
              "      border-color: transparent;\n",
              "      border-left-color: var(--fill-color);\n",
              "      border-top-color: var(--fill-color);\n",
              "      border-right-color: var(--fill-color);\n",
              "    }\n",
              "    40% {\n",
              "      border-color: transparent;\n",
              "      border-right-color: var(--fill-color);\n",
              "      border-top-color: var(--fill-color);\n",
              "    }\n",
              "    60% {\n",
              "      border-color: transparent;\n",
              "      border-right-color: var(--fill-color);\n",
              "    }\n",
              "    80% {\n",
              "      border-color: transparent;\n",
              "      border-right-color: var(--fill-color);\n",
              "      border-bottom-color: var(--fill-color);\n",
              "    }\n",
              "    90% {\n",
              "      border-color: transparent;\n",
              "      border-bottom-color: var(--fill-color);\n",
              "    }\n",
              "  }\n",
              "</style>\n",
              "\n",
              "  <script>\n",
              "    async function quickchart(key) {\n",
              "      const quickchartButtonEl =\n",
              "        document.querySelector('#' + key + ' button');\n",
              "      quickchartButtonEl.disabled = true;  // To prevent multiple clicks.\n",
              "      quickchartButtonEl.classList.add('colab-df-spinner');\n",
              "      try {\n",
              "        const charts = await google.colab.kernel.invokeFunction(\n",
              "            'suggestCharts', [key], {});\n",
              "      } catch (error) {\n",
              "        console.error('Error during call to suggestCharts:', error);\n",
              "      }\n",
              "      quickchartButtonEl.classList.remove('colab-df-spinner');\n",
              "      quickchartButtonEl.classList.add('colab-df-quickchart-complete');\n",
              "    }\n",
              "    (() => {\n",
              "      let quickchartButtonEl =\n",
              "        document.querySelector('#df-c6d53f5c-f2d6-44c1-bc0e-20147118953b button');\n",
              "      quickchartButtonEl.style.display =\n",
              "        google.colab.kernel.accessAllowed ? 'block' : 'none';\n",
              "    })();\n",
              "  </script>\n",
              "</div>\n",
              "    </div>\n",
              "  </div>\n"
            ]
          },
          "metadata": {},
          "execution_count": 176
        }
      ]
    },
    {
      "cell_type": "code",
      "source": [
        "f19_index.plot.hexbin(\"frequency\", \"cumulative_perc\", figsize=(10,5))"
      ],
      "metadata": {
        "id": "NWwO1XBsdQvp",
        "colab": {
          "base_uri": "https://localhost:8080/",
          "height": 487
        },
        "outputId": "9f5f40a4-2061-4df6-fb89-409be6b55497"
      },
      "execution_count": 177,
      "outputs": [
        {
          "output_type": "execute_result",
          "data": {
            "text/plain": [
              "<Axes: xlabel='frequency', ylabel='cumulative_perc'>"
            ]
          },
          "metadata": {},
          "execution_count": 177
        },
        {
          "output_type": "display_data",
          "data": {
            "text/plain": [
              "<Figure size 1000x500 with 2 Axes>"
            ],
            "image/png": "[encoded data removed]"
          },
          "metadata": {}
        }
      ]
    },
    {
      "cell_type": "code",
      "source": [
        "table20 = freq_tbl(tab1[\"193_sales_planning_tools\"])\n",
        "table20"
      ],
      "metadata": {
        "colab": {
          "base_uri": "https://localhost:8080/",
          "height": 582
        },
        "id": "cEUeF7hseQ4D",
        "outputId": "6a69e7de-91bc-4ba0-d69e-fe44305359ec"
      },
      "execution_count": 178,
      "outputs": [
        {
          "output_type": "execute_result",
          "data": {
            "text/plain": [
              "                   193_sales_planning_tools  frequency  percentage  \\\n",
              "0                                   Ninguna         71    0.415205   \n",
              "1                                  Cuaderno         32    0.187135   \n",
              "2                    Software especializado         29    0.169591   \n",
              "3                                     Excel         16    0.093567   \n",
              "4                            Cuaderno,Excel          4    0.023392   \n",
              "5                          Cuaderno,Ninguna          2    0.011696   \n",
              "6                                En físico           2    0.011696   \n",
              "7                                     Other          1    0.005848   \n",
              "8                                    Mental          1    0.005848   \n",
              "9                      Por temporada de pan          1    0.005848   \n",
              "10                           Sobre demanda           1    0.005848   \n",
              "11  Aplicación móvil,Software especializado          1    0.005848   \n",
              "12             Excel,Software especializado          1    0.005848   \n",
              "13                                Catálogo           1    0.005848   \n",
              "14                           Redes sociales          1    0.005848   \n",
              "15                         Aplicación móvil          1    0.005848   \n",
              "16                   Aplicación móvil,Excel          1    0.005848   \n",
              "\n",
              "    cumulative_perc  \n",
              "0          0.427711  \n",
              "1          0.620482  \n",
              "2          0.795181  \n",
              "3          0.891566  \n",
              "4          0.915663  \n",
              "5          0.927711  \n",
              "6          0.939759  \n",
              "7          0.945783  \n",
              "8          0.951807  \n",
              "9          0.957831  \n",
              "10         0.963855  \n",
              "11         0.969880  \n",
              "12         0.975904  \n",
              "13         0.981928  \n",
              "14         0.987952  \n",
              "15         0.993976  \n",
              "16         1.000000  "
            ],
            "text/html": [
              "\n",
              "  <div id=\"df-0fdb009d-139f-4913-b44c-23139cce6edf\" class=\"colab-df-container\">\n",
              "    <div>\n",
              "<style scoped>\n",
              "    .dataframe tbody tr th:only-of-type {\n",
              "        vertical-align: middle;\n",
              "    }\n",
              "\n",
              "    .dataframe tbody tr th {\n",
              "        vertical-align: top;\n",
              "    }\n",
              "\n",
              "    .dataframe thead th {\n",
              "        text-align: right;\n",
              "    }\n",
              "</style>\n",
              "<table border=\"1\" class=\"dataframe\">\n",
              "  <thead>\n",
              "    <tr style=\"text-align: right;\">\n",
              "      <th></th>\n",
              "      <th>193_sales_planning_tools</th>\n",
              "      <th>frequency</th>\n",
              "      <th>percentage</th>\n",
              "      <th>cumulative_perc</th>\n",
              "    </tr>\n",
              "  </thead>\n",
              "  <tbody>\n",
              "    <tr>\n",
              "      <th>0</th>\n",
              "      <td>Ninguna</td>\n",
              "      <td>71</td>\n",
              "      <td>0.415205</td>\n",
              "      <td>0.427711</td>\n",
              "    </tr>\n",
              "    <tr>\n",
              "      <th>1</th>\n",
              "      <td>Cuaderno</td>\n",
              "      <td>32</td>\n",
              "      <td>0.187135</td>\n",
              "      <td>0.620482</td>\n",
              "    </tr>\n",
              "    <tr>\n",
              "      <th>2</th>\n",
              "      <td>Software especializado</td>\n",
              "      <td>29</td>\n",
              "      <td>0.169591</td>\n",
              "      <td>0.795181</td>\n",
              "    </tr>\n",
              "    <tr>\n",
              "      <th>3</th>\n",
              "      <td>Excel</td>\n",
              "      <td>16</td>\n",
              "      <td>0.093567</td>\n",
              "      <td>0.891566</td>\n",
              "    </tr>\n",
              "    <tr>\n",
              "      <th>4</th>\n",
              "      <td>Cuaderno,Excel</td>\n",
              "      <td>4</td>\n",
              "      <td>0.023392</td>\n",
              "      <td>0.915663</td>\n",
              "    </tr>\n",
              "    <tr>\n",
              "      <th>5</th>\n",
              "      <td>Cuaderno,Ninguna</td>\n",
              "      <td>2</td>\n",
              "      <td>0.011696</td>\n",
              "      <td>0.927711</td>\n",
              "    </tr>\n",
              "    <tr>\n",
              "      <th>6</th>\n",
              "      <td>En físico</td>\n",
              "      <td>2</td>\n",
              "      <td>0.011696</td>\n",
              "      <td>0.939759</td>\n",
              "    </tr>\n",
              "    <tr>\n",
              "      <th>7</th>\n",
              "      <td>Other</td>\n",
              "      <td>1</td>\n",
              "      <td>0.005848</td>\n",
              "      <td>0.945783</td>\n",
              "    </tr>\n",
              "    <tr>\n",
              "      <th>8</th>\n",
              "      <td>Mental</td>\n",
              "      <td>1</td>\n",
              "      <td>0.005848</td>\n",
              "      <td>0.951807</td>\n",
              "    </tr>\n",
              "    <tr>\n",
              "      <th>9</th>\n",
              "      <td>Por temporada de pan</td>\n",
              "      <td>1</td>\n",
              "      <td>0.005848</td>\n",
              "      <td>0.957831</td>\n",
              "    </tr>\n",
              "    <tr>\n",
              "      <th>10</th>\n",
              "      <td>Sobre demanda</td>\n",
              "      <td>1</td>\n",
              "      <td>0.005848</td>\n",
              "      <td>0.963855</td>\n",
              "    </tr>\n",
              "    <tr>\n",
              "      <th>11</th>\n",
              "      <td>Aplicación móvil,Software especializado</td>\n",
              "      <td>1</td>\n",
              "      <td>0.005848</td>\n",
              "      <td>0.969880</td>\n",
              "    </tr>\n",
              "    <tr>\n",
              "      <th>12</th>\n",
              "      <td>Excel,Software especializado</td>\n",
              "      <td>1</td>\n",
              "      <td>0.005848</td>\n",
              "      <td>0.975904</td>\n",
              "    </tr>\n",
              "    <tr>\n",
              "      <th>13</th>\n",
              "      <td>Catálogo</td>\n",
              "      <td>1</td>\n",
              "      <td>0.005848</td>\n",
              "      <td>0.981928</td>\n",
              "    </tr>\n",
              "    <tr>\n",
              "      <th>14</th>\n",
              "      <td>Redes sociales</td>\n",
              "      <td>1</td>\n",
              "      <td>0.005848</td>\n",
              "      <td>0.987952</td>\n",
              "    </tr>\n",
              "    <tr>\n",
              "      <th>15</th>\n",
              "      <td>Aplicación móvil</td>\n",
              "      <td>1</td>\n",
              "      <td>0.005848</td>\n",
              "      <td>0.993976</td>\n",
              "    </tr>\n",
              "    <tr>\n",
              "      <th>16</th>\n",
              "      <td>Aplicación móvil,Excel</td>\n",
              "      <td>1</td>\n",
              "      <td>0.005848</td>\n",
              "      <td>1.000000</td>\n",
              "    </tr>\n",
              "  </tbody>\n",
              "</table>\n",
              "</div>\n",
              "    <div class=\"colab-df-buttons\">\n",
              "\n",
              "  <div class=\"colab-df-container\">\n",
              "    <button class=\"colab-df-convert\" onclick=\"convertToInteractive('df-0fdb009d-139f-4913-b44c-23139cce6edf')\"\n",
              "            title=\"Convert this dataframe to an interactive table.\"\n",
              "            style=\"display:none;\">\n",
              "\n",
              "  <svg xmlns=\"http://www.w3.org/2000/svg\" height=\"24px\" viewBox=\"0 -960 960 960\">\n",
              "    <path d=\"M120-120v-720h720v720H120Zm60-500h600v-160H180v160Zm220 220h160v-160H400v160Zm0 220h160v-160H400v160ZM180-400h160v-160H180v160Zm440 0h160v-160H620v160ZM180-180h160v-160H180v160Zm440 0h160v-160H620v160Z\"/>\n",
              "  </svg>\n",
              "    </button>\n",
              "\n",
              "  <style>\n",
              "    .colab-df-container {\n",
              "      display:flex;\n",
              "      gap: 12px;\n",
              "    }\n",
              "\n",
              "    .colab-df-convert {\n",
              "      background-color: #E8F0FE;\n",
              "      border: none;\n",
              "      border-radius: 50%;\n",
              "      cursor: pointer;\n",
              "      display: none;\n",
              "      fill: #1967D2;\n",
              "      height: 32px;\n",
              "      padding: 0 0 0 0;\n",
              "      width: 32px;\n",
              "    }\n",
              "\n",
              "    .colab-df-convert:hover {\n",
              "      background-color: #E2EBFA;\n",
              "      box-shadow: 0px 1px 2px rgba(60, 64, 67, 0.3), 0px 1px 3px 1px rgba(60, 64, 67, 0.15);\n",
              "      fill: #174EA6;\n",
              "    }\n",
              "\n",
              "    .colab-df-buttons div {\n",
              "      margin-bottom: 4px;\n",
              "    }\n",
              "\n",
              "    [theme=dark] .colab-df-convert {\n",
              "      background-color: #3B4455;\n",
              "      fill: #D2E3FC;\n",
              "    }\n",
              "\n",
              "    [theme=dark] .colab-df-convert:hover {\n",
              "      background-color: #434B5C;\n",
              "      box-shadow: 0px 1px 3px 1px rgba(0, 0, 0, 0.15);\n",
              "      filter: drop-shadow(0px 1px 2px rgba(0, 0, 0, 0.3));\n",
              "      fill: #FFFFFF;\n",
              "    }\n",
              "  </style>\n",
              "\n",
              "    <script>\n",
              "      const buttonEl =\n",
              "        document.querySelector('#df-0fdb009d-139f-4913-b44c-23139cce6edf button.colab-df-convert');\n",
              "      buttonEl.style.display =\n",
              "        google.colab.kernel.accessAllowed ? 'block' : 'none';\n",
              "\n",
              "      async function convertToInteractive(key) {\n",
              "        const element = document.querySelector('#df-0fdb009d-139f-4913-b44c-23139cce6edf');\n",
              "        const dataTable =\n",
              "          await google.colab.kernel.invokeFunction('convertToInteractive',\n",
              "                                                    [key], {});\n",
              "        if (!dataTable) return;\n",
              "\n",
              "        const docLinkHtml = 'Like what you see? Visit the ' +\n",
              "          '<a target=\"_blank\" href=https://colab.research.google.com/notebooks/data_table.ipynb>data table notebook</a>'\n",
              "          + ' to learn more about interactive tables.';\n",
              "        element.innerHTML = '';\n",
              "        dataTable['output_type'] = 'display_data';\n",
              "        await google.colab.output.renderOutput(dataTable, element);\n",
              "        const docLink = document.createElement('div');\n",
              "        docLink.innerHTML = docLinkHtml;\n",
              "        element.appendChild(docLink);\n",
              "      }\n",
              "    </script>\n",
              "  </div>\n",
              "\n",
              "\n",
              "<div id=\"df-9dee779f-add2-435c-9b2d-9b128a2b5762\">\n",
              "  <button class=\"colab-df-quickchart\" onclick=\"quickchart('df-9dee779f-add2-435c-9b2d-9b128a2b5762')\"\n",
              "            title=\"Suggest charts\"\n",
              "            style=\"display:none;\">\n",
              "\n",
              "<svg xmlns=\"http://www.w3.org/2000/svg\" height=\"24px\"viewBox=\"0 0 24 24\"\n",
              "     width=\"24px\">\n",
              "    <g>\n",
              "        <path d=\"M19 3H5c-1.1 0-2 .9-2 2v14c0 1.1.9 2 2 2h14c1.1 0 2-.9 2-2V5c0-1.1-.9-2-2-2zM9 17H7v-7h2v7zm4 0h-2V7h2v10zm4 0h-2v-4h2v4z\"/>\n",
              "    </g>\n",
              "</svg>\n",
              "  </button>\n",
              "\n",
              "<style>\n",
              "  .colab-df-quickchart {\n",
              "      --bg-color: #E8F0FE;\n",
              "      --fill-color: #1967D2;\n",
              "      --hover-bg-color: #E2EBFA;\n",
              "      --hover-fill-color: #174EA6;\n",
              "      --disabled-fill-color: #AAA;\n",
              "      --disabled-bg-color: #DDD;\n",
              "  }\n",
              "\n",
              "  [theme=dark] .colab-df-quickchart {\n",
              "      --bg-color: #3B4455;\n",
              "      --fill-color: #D2E3FC;\n",
              "      --hover-bg-color: #434B5C;\n",
              "      --hover-fill-color: #FFFFFF;\n",
              "      --disabled-bg-color: #3B4455;\n",
              "      --disabled-fill-color: #666;\n",
              "  }\n",
              "\n",
              "  .colab-df-quickchart {\n",
              "    background-color: var(--bg-color);\n",
              "    border: none;\n",
              "    border-radius: 50%;\n",
              "    cursor: pointer;\n",
              "    display: none;\n",
              "    fill: var(--fill-color);\n",
              "    height: 32px;\n",
              "    padding: 0;\n",
              "    width: 32px;\n",
              "  }\n",
              "\n",
              "  .colab-df-quickchart:hover {\n",
              "    background-color: var(--hover-bg-color);\n",
              "    box-shadow: 0 1px 2px rgba(60, 64, 67, 0.3), 0 1px 3px 1px rgba(60, 64, 67, 0.15);\n",
              "    fill: var(--button-hover-fill-color);\n",
              "  }\n",
              "\n",
              "  .colab-df-quickchart-complete:disabled,\n",
              "  .colab-df-quickchart-complete:disabled:hover {\n",
              "    background-color: var(--disabled-bg-color);\n",
              "    fill: var(--disabled-fill-color);\n",
              "    box-shadow: none;\n",
              "  }\n",
              "\n",
              "  .colab-df-spinner {\n",
              "    border: 2px solid var(--fill-color);\n",
              "    border-color: transparent;\n",
              "    border-bottom-color: var(--fill-color);\n",
              "    animation:\n",
              "      spin 1s steps(1) infinite;\n",
              "  }\n",
              "\n",
              "  @keyframes spin {\n",
              "    0% {\n",
              "      border-color: transparent;\n",
              "      border-bottom-color: var(--fill-color);\n",
              "      border-left-color: var(--fill-color);\n",
              "    }\n",
              "    20% {\n",
              "      border-color: transparent;\n",
              "      border-left-color: var(--fill-color);\n",
              "      border-top-color: var(--fill-color);\n",
              "    }\n",
              "    30% {\n",
              "      border-color: transparent;\n",
              "      border-left-color: var(--fill-color);\n",
              "      border-top-color: var(--fill-color);\n",
              "      border-right-color: var(--fill-color);\n",
              "    }\n",
              "    40% {\n",
              "      border-color: transparent;\n",
              "      border-right-color: var(--fill-color);\n",
              "      border-top-color: var(--fill-color);\n",
              "    }\n",
              "    60% {\n",
              "      border-color: transparent;\n",
              "      border-right-color: var(--fill-color);\n",
              "    }\n",
              "    80% {\n",
              "      border-color: transparent;\n",
              "      border-right-color: var(--fill-color);\n",
              "      border-bottom-color: var(--fill-color);\n",
              "    }\n",
              "    90% {\n",
              "      border-color: transparent;\n",
              "      border-bottom-color: var(--fill-color);\n",
              "    }\n",
              "  }\n",
              "</style>\n",
              "\n",
              "  <script>\n",
              "    async function quickchart(key) {\n",
              "      const quickchartButtonEl =\n",
              "        document.querySelector('#' + key + ' button');\n",
              "      quickchartButtonEl.disabled = true;  // To prevent multiple clicks.\n",
              "      quickchartButtonEl.classList.add('colab-df-spinner');\n",
              "      try {\n",
              "        const charts = await google.colab.kernel.invokeFunction(\n",
              "            'suggestCharts', [key], {});\n",
              "      } catch (error) {\n",
              "        console.error('Error during call to suggestCharts:', error);\n",
              "      }\n",
              "      quickchartButtonEl.classList.remove('colab-df-spinner');\n",
              "      quickchartButtonEl.classList.add('colab-df-quickchart-complete');\n",
              "    }\n",
              "    (() => {\n",
              "      let quickchartButtonEl =\n",
              "        document.querySelector('#df-9dee779f-add2-435c-9b2d-9b128a2b5762 button');\n",
              "      quickchartButtonEl.style.display =\n",
              "        google.colab.kernel.accessAllowed ? 'block' : 'none';\n",
              "    })();\n",
              "  </script>\n",
              "</div>\n",
              "    </div>\n",
              "  </div>\n"
            ]
          },
          "metadata": {},
          "execution_count": 178
        }
      ]
    },
    {
      "cell_type": "code",
      "source": [
        "f20 = table20[table20[\"frequency\"]>1]\n",
        "f20"
      ],
      "metadata": {
        "colab": {
          "base_uri": "https://localhost:8080/",
          "height": 269
        },
        "id": "xqbo8BKDeRJk",
        "outputId": "0757f1eb-c27f-4e26-b252-d111a6383584"
      },
      "execution_count": 179,
      "outputs": [
        {
          "output_type": "execute_result",
          "data": {
            "text/plain": [
              "  193_sales_planning_tools  frequency  percentage  cumulative_perc\n",
              "0                  Ninguna         71    0.415205         0.427711\n",
              "1                 Cuaderno         32    0.187135         0.620482\n",
              "2   Software especializado         29    0.169591         0.795181\n",
              "3                    Excel         16    0.093567         0.891566\n",
              "4           Cuaderno,Excel          4    0.023392         0.915663\n",
              "5         Cuaderno,Ninguna          2    0.011696         0.927711\n",
              "6               En físico           2    0.011696         0.939759"
            ],
            "text/html": [
              "\n",
              "  <div id=\"df-3186b853-7561-443c-9fd6-e9fbe2338cb3\" class=\"colab-df-container\">\n",
              "    <div>\n",
              "<style scoped>\n",
              "    .dataframe tbody tr th:only-of-type {\n",
              "        vertical-align: middle;\n",
              "    }\n",
              "\n",
              "    .dataframe tbody tr th {\n",
              "        vertical-align: top;\n",
              "    }\n",
              "\n",
              "    .dataframe thead th {\n",
              "        text-align: right;\n",
              "    }\n",
              "</style>\n",
              "<table border=\"1\" class=\"dataframe\">\n",
              "  <thead>\n",
              "    <tr style=\"text-align: right;\">\n",
              "      <th></th>\n",
              "      <th>193_sales_planning_tools</th>\n",
              "      <th>frequency</th>\n",
              "      <th>percentage</th>\n",
              "      <th>cumulative_perc</th>\n",
              "    </tr>\n",
              "  </thead>\n",
              "  <tbody>\n",
              "    <tr>\n",
              "      <th>0</th>\n",
              "      <td>Ninguna</td>\n",
              "      <td>71</td>\n",
              "      <td>0.415205</td>\n",
              "      <td>0.427711</td>\n",
              "    </tr>\n",
              "    <tr>\n",
              "      <th>1</th>\n",
              "      <td>Cuaderno</td>\n",
              "      <td>32</td>\n",
              "      <td>0.187135</td>\n",
              "      <td>0.620482</td>\n",
              "    </tr>\n",
              "    <tr>\n",
              "      <th>2</th>\n",
              "      <td>Software especializado</td>\n",
              "      <td>29</td>\n",
              "      <td>0.169591</td>\n",
              "      <td>0.795181</td>\n",
              "    </tr>\n",
              "    <tr>\n",
              "      <th>3</th>\n",
              "      <td>Excel</td>\n",
              "      <td>16</td>\n",
              "      <td>0.093567</td>\n",
              "      <td>0.891566</td>\n",
              "    </tr>\n",
              "    <tr>\n",
              "      <th>4</th>\n",
              "      <td>Cuaderno,Excel</td>\n",
              "      <td>4</td>\n",
              "      <td>0.023392</td>\n",
              "      <td>0.915663</td>\n",
              "    </tr>\n",
              "    <tr>\n",
              "      <th>5</th>\n",
              "      <td>Cuaderno,Ninguna</td>\n",
              "      <td>2</td>\n",
              "      <td>0.011696</td>\n",
              "      <td>0.927711</td>\n",
              "    </tr>\n",
              "    <tr>\n",
              "      <th>6</th>\n",
              "      <td>En físico</td>\n",
              "      <td>2</td>\n",
              "      <td>0.011696</td>\n",
              "      <td>0.939759</td>\n",
              "    </tr>\n",
              "  </tbody>\n",
              "</table>\n",
              "</div>\n",
              "    <div class=\"colab-df-buttons\">\n",
              "\n",
              "  <div class=\"colab-df-container\">\n",
              "    <button class=\"colab-df-convert\" onclick=\"convertToInteractive('df-3186b853-7561-443c-9fd6-e9fbe2338cb3')\"\n",
              "            title=\"Convert this dataframe to an interactive table.\"\n",
              "            style=\"display:none;\">\n",
              "\n",
              "  <svg xmlns=\"http://www.w3.org/2000/svg\" height=\"24px\" viewBox=\"0 -960 960 960\">\n",
              "    <path d=\"M120-120v-720h720v720H120Zm60-500h600v-160H180v160Zm220 220h160v-160H400v160Zm0 220h160v-160H400v160ZM180-400h160v-160H180v160Zm440 0h160v-160H620v160ZM180-180h160v-160H180v160Zm440 0h160v-160H620v160Z\"/>\n",
              "  </svg>\n",
              "    </button>\n",
              "\n",
              "  <style>\n",
              "    .colab-df-container {\n",
              "      display:flex;\n",
              "      gap: 12px;\n",
              "    }\n",
              "\n",
              "    .colab-df-convert {\n",
              "      background-color: #E8F0FE;\n",
              "      border: none;\n",
              "      border-radius: 50%;\n",
              "      cursor: pointer;\n",
              "      display: none;\n",
              "      fill: #1967D2;\n",
              "      height: 32px;\n",
              "      padding: 0 0 0 0;\n",
              "      width: 32px;\n",
              "    }\n",
              "\n",
              "    .colab-df-convert:hover {\n",
              "      background-color: #E2EBFA;\n",
              "      box-shadow: 0px 1px 2px rgba(60, 64, 67, 0.3), 0px 1px 3px 1px rgba(60, 64, 67, 0.15);\n",
              "      fill: #174EA6;\n",
              "    }\n",
              "\n",
              "    .colab-df-buttons div {\n",
              "      margin-bottom: 4px;\n",
              "    }\n",
              "\n",
              "    [theme=dark] .colab-df-convert {\n",
              "      background-color: #3B4455;\n",
              "      fill: #D2E3FC;\n",
              "    }\n",
              "\n",
              "    [theme=dark] .colab-df-convert:hover {\n",
              "      background-color: #434B5C;\n",
              "      box-shadow: 0px 1px 3px 1px rgba(0, 0, 0, 0.15);\n",
              "      filter: drop-shadow(0px 1px 2px rgba(0, 0, 0, 0.3));\n",
              "      fill: #FFFFFF;\n",
              "    }\n",
              "  </style>\n",
              "\n",
              "    <script>\n",
              "      const buttonEl =\n",
              "        document.querySelector('#df-3186b853-7561-443c-9fd6-e9fbe2338cb3 button.colab-df-convert');\n",
              "      buttonEl.style.display =\n",
              "        google.colab.kernel.accessAllowed ? 'block' : 'none';\n",
              "\n",
              "      async function convertToInteractive(key) {\n",
              "        const element = document.querySelector('#df-3186b853-7561-443c-9fd6-e9fbe2338cb3');\n",
              "        const dataTable =\n",
              "          await google.colab.kernel.invokeFunction('convertToInteractive',\n",
              "                                                    [key], {});\n",
              "        if (!dataTable) return;\n",
              "\n",
              "        const docLinkHtml = 'Like what you see? Visit the ' +\n",
              "          '<a target=\"_blank\" href=https://colab.research.google.com/notebooks/data_table.ipynb>data table notebook</a>'\n",
              "          + ' to learn more about interactive tables.';\n",
              "        element.innerHTML = '';\n",
              "        dataTable['output_type'] = 'display_data';\n",
              "        await google.colab.output.renderOutput(dataTable, element);\n",
              "        const docLink = document.createElement('div');\n",
              "        docLink.innerHTML = docLinkHtml;\n",
              "        element.appendChild(docLink);\n",
              "      }\n",
              "    </script>\n",
              "  </div>\n",
              "\n",
              "\n",
              "<div id=\"df-c1136b37-fda0-4613-b2b3-fea48d5d3284\">\n",
              "  <button class=\"colab-df-quickchart\" onclick=\"quickchart('df-c1136b37-fda0-4613-b2b3-fea48d5d3284')\"\n",
              "            title=\"Suggest charts\"\n",
              "            style=\"display:none;\">\n",
              "\n",
              "<svg xmlns=\"http://www.w3.org/2000/svg\" height=\"24px\"viewBox=\"0 0 24 24\"\n",
              "     width=\"24px\">\n",
              "    <g>\n",
              "        <path d=\"M19 3H5c-1.1 0-2 .9-2 2v14c0 1.1.9 2 2 2h14c1.1 0 2-.9 2-2V5c0-1.1-.9-2-2-2zM9 17H7v-7h2v7zm4 0h-2V7h2v10zm4 0h-2v-4h2v4z\"/>\n",
              "    </g>\n",
              "</svg>\n",
              "  </button>\n",
              "\n",
              "<style>\n",
              "  .colab-df-quickchart {\n",
              "      --bg-color: #E8F0FE;\n",
              "      --fill-color: #1967D2;\n",
              "      --hover-bg-color: #E2EBFA;\n",
              "      --hover-fill-color: #174EA6;\n",
              "      --disabled-fill-color: #AAA;\n",
              "      --disabled-bg-color: #DDD;\n",
              "  }\n",
              "\n",
              "  [theme=dark] .colab-df-quickchart {\n",
              "      --bg-color: #3B4455;\n",
              "      --fill-color: #D2E3FC;\n",
              "      --hover-bg-color: #434B5C;\n",
              "      --hover-fill-color: #FFFFFF;\n",
              "      --disabled-bg-color: #3B4455;\n",
              "      --disabled-fill-color: #666;\n",
              "  }\n",
              "\n",
              "  .colab-df-quickchart {\n",
              "    background-color: var(--bg-color);\n",
              "    border: none;\n",
              "    border-radius: 50%;\n",
              "    cursor: pointer;\n",
              "    display: none;\n",
              "    fill: var(--fill-color);\n",
              "    height: 32px;\n",
              "    padding: 0;\n",
              "    width: 32px;\n",
              "  }\n",
              "\n",
              "  .colab-df-quickchart:hover {\n",
              "    background-color: var(--hover-bg-color);\n",
              "    box-shadow: 0 1px 2px rgba(60, 64, 67, 0.3), 0 1px 3px 1px rgba(60, 64, 67, 0.15);\n",
              "    fill: var(--button-hover-fill-color);\n",
              "  }\n",
              "\n",
              "  .colab-df-quickchart-complete:disabled,\n",
              "  .colab-df-quickchart-complete:disabled:hover {\n",
              "    background-color: var(--disabled-bg-color);\n",
              "    fill: var(--disabled-fill-color);\n",
              "    box-shadow: none;\n",
              "  }\n",
              "\n",
              "  .colab-df-spinner {\n",
              "    border: 2px solid var(--fill-color);\n",
              "    border-color: transparent;\n",
              "    border-bottom-color: var(--fill-color);\n",
              "    animation:\n",
              "      spin 1s steps(1) infinite;\n",
              "  }\n",
              "\n",
              "  @keyframes spin {\n",
              "    0% {\n",
              "      border-color: transparent;\n",
              "      border-bottom-color: var(--fill-color);\n",
              "      border-left-color: var(--fill-color);\n",
              "    }\n",
              "    20% {\n",
              "      border-color: transparent;\n",
              "      border-left-color: var(--fill-color);\n",
              "      border-top-color: var(--fill-color);\n",
              "    }\n",
              "    30% {\n",
              "      border-color: transparent;\n",
              "      border-left-color: var(--fill-color);\n",
              "      border-top-color: var(--fill-color);\n",
              "      border-right-color: var(--fill-color);\n",
              "    }\n",
              "    40% {\n",
              "      border-color: transparent;\n",
              "      border-right-color: var(--fill-color);\n",
              "      border-top-color: var(--fill-color);\n",
              "    }\n",
              "    60% {\n",
              "      border-color: transparent;\n",
              "      border-right-color: var(--fill-color);\n",
              "    }\n",
              "    80% {\n",
              "      border-color: transparent;\n",
              "      border-right-color: var(--fill-color);\n",
              "      border-bottom-color: var(--fill-color);\n",
              "    }\n",
              "    90% {\n",
              "      border-color: transparent;\n",
              "      border-bottom-color: var(--fill-color);\n",
              "    }\n",
              "  }\n",
              "</style>\n",
              "\n",
              "  <script>\n",
              "    async function quickchart(key) {\n",
              "      const quickchartButtonEl =\n",
              "        document.querySelector('#' + key + ' button');\n",
              "      quickchartButtonEl.disabled = true;  // To prevent multiple clicks.\n",
              "      quickchartButtonEl.classList.add('colab-df-spinner');\n",
              "      try {\n",
              "        const charts = await google.colab.kernel.invokeFunction(\n",
              "            'suggestCharts', [key], {});\n",
              "      } catch (error) {\n",
              "        console.error('Error during call to suggestCharts:', error);\n",
              "      }\n",
              "      quickchartButtonEl.classList.remove('colab-df-spinner');\n",
              "      quickchartButtonEl.classList.add('colab-df-quickchart-complete');\n",
              "    }\n",
              "    (() => {\n",
              "      let quickchartButtonEl =\n",
              "        document.querySelector('#df-c1136b37-fda0-4613-b2b3-fea48d5d3284 button');\n",
              "      quickchartButtonEl.style.display =\n",
              "        google.colab.kernel.accessAllowed ? 'block' : 'none';\n",
              "    })();\n",
              "  </script>\n",
              "</div>\n",
              "    </div>\n",
              "  </div>\n"
            ]
          },
          "metadata": {},
          "execution_count": 179
        }
      ]
    },
    {
      "cell_type": "code",
      "source": [
        "f20_index = f20.set_index(\"193_sales_planning_tools\")\n",
        "f20_index"
      ],
      "metadata": {
        "colab": {
          "base_uri": "https://localhost:8080/",
          "height": 300
        },
        "id": "cJt7SqvAeRQT",
        "outputId": "4cabc273-c330-4bf2-99e0-c96503e9ffd3"
      },
      "execution_count": 180,
      "outputs": [
        {
          "output_type": "execute_result",
          "data": {
            "text/plain": [
              "                          frequency  percentage  cumulative_perc\n",
              "193_sales_planning_tools                                        \n",
              "Ninguna                          71    0.415205         0.427711\n",
              "Cuaderno                         32    0.187135         0.620482\n",
              "Software especializado           29    0.169591         0.795181\n",
              "Excel                            16    0.093567         0.891566\n",
              "Cuaderno,Excel                    4    0.023392         0.915663\n",
              "Cuaderno,Ninguna                  2    0.011696         0.927711\n",
              "En físico                         2    0.011696         0.939759"
            ],
            "text/html": [
              "\n",
              "  <div id=\"df-25d1d08b-c416-4d10-b351-7a21a835ce8d\" class=\"colab-df-container\">\n",
              "    <div>\n",
              "<style scoped>\n",
              "    .dataframe tbody tr th:only-of-type {\n",
              "        vertical-align: middle;\n",
              "    }\n",
              "\n",
              "    .dataframe tbody tr th {\n",
              "        vertical-align: top;\n",
              "    }\n",
              "\n",
              "    .dataframe thead th {\n",
              "        text-align: right;\n",
              "    }\n",
              "</style>\n",
              "<table border=\"1\" class=\"dataframe\">\n",
              "  <thead>\n",
              "    <tr style=\"text-align: right;\">\n",
              "      <th></th>\n",
              "      <th>frequency</th>\n",
              "      <th>percentage</th>\n",
              "      <th>cumulative_perc</th>\n",
              "    </tr>\n",
              "    <tr>\n",
              "      <th>193_sales_planning_tools</th>\n",
              "      <th></th>\n",
              "      <th></th>\n",
              "      <th></th>\n",
              "    </tr>\n",
              "  </thead>\n",
              "  <tbody>\n",
              "    <tr>\n",
              "      <th>Ninguna</th>\n",
              "      <td>71</td>\n",
              "      <td>0.415205</td>\n",
              "      <td>0.427711</td>\n",
              "    </tr>\n",
              "    <tr>\n",
              "      <th>Cuaderno</th>\n",
              "      <td>32</td>\n",
              "      <td>0.187135</td>\n",
              "      <td>0.620482</td>\n",
              "    </tr>\n",
              "    <tr>\n",
              "      <th>Software especializado</th>\n",
              "      <td>29</td>\n",
              "      <td>0.169591</td>\n",
              "      <td>0.795181</td>\n",
              "    </tr>\n",
              "    <tr>\n",
              "      <th>Excel</th>\n",
              "      <td>16</td>\n",
              "      <td>0.093567</td>\n",
              "      <td>0.891566</td>\n",
              "    </tr>\n",
              "    <tr>\n",
              "      <th>Cuaderno,Excel</th>\n",
              "      <td>4</td>\n",
              "      <td>0.023392</td>\n",
              "      <td>0.915663</td>\n",
              "    </tr>\n",
              "    <tr>\n",
              "      <th>Cuaderno,Ninguna</th>\n",
              "      <td>2</td>\n",
              "      <td>0.011696</td>\n",
              "      <td>0.927711</td>\n",
              "    </tr>\n",
              "    <tr>\n",
              "      <th>En físico</th>\n",
              "      <td>2</td>\n",
              "      <td>0.011696</td>\n",
              "      <td>0.939759</td>\n",
              "    </tr>\n",
              "  </tbody>\n",
              "</table>\n",
              "</div>\n",
              "    <div class=\"colab-df-buttons\">\n",
              "\n",
              "  <div class=\"colab-df-container\">\n",
              "    <button class=\"colab-df-convert\" onclick=\"convertToInteractive('df-25d1d08b-c416-4d10-b351-7a21a835ce8d')\"\n",
              "            title=\"Convert this dataframe to an interactive table.\"\n",
              "            style=\"display:none;\">\n",
              "\n",
              "  <svg xmlns=\"http://www.w3.org/2000/svg\" height=\"24px\" viewBox=\"0 -960 960 960\">\n",
              "    <path d=\"M120-120v-720h720v720H120Zm60-500h600v-160H180v160Zm220 220h160v-160H400v160Zm0 220h160v-160H400v160ZM180-400h160v-160H180v160Zm440 0h160v-160H620v160ZM180-180h160v-160H180v160Zm440 0h160v-160H620v160Z\"/>\n",
              "  </svg>\n",
              "    </button>\n",
              "\n",
              "  <style>\n",
              "    .colab-df-container {\n",
              "      display:flex;\n",
              "      gap: 12px;\n",
              "    }\n",
              "\n",
              "    .colab-df-convert {\n",
              "      background-color: #E8F0FE;\n",
              "      border: none;\n",
              "      border-radius: 50%;\n",
              "      cursor: pointer;\n",
              "      display: none;\n",
              "      fill: #1967D2;\n",
              "      height: 32px;\n",
              "      padding: 0 0 0 0;\n",
              "      width: 32px;\n",
              "    }\n",
              "\n",
              "    .colab-df-convert:hover {\n",
              "      background-color: #E2EBFA;\n",
              "      box-shadow: 0px 1px 2px rgba(60, 64, 67, 0.3), 0px 1px 3px 1px rgba(60, 64, 67, 0.15);\n",
              "      fill: #174EA6;\n",
              "    }\n",
              "\n",
              "    .colab-df-buttons div {\n",
              "      margin-bottom: 4px;\n",
              "    }\n",
              "\n",
              "    [theme=dark] .colab-df-convert {\n",
              "      background-color: #3B4455;\n",
              "      fill: #D2E3FC;\n",
              "    }\n",
              "\n",
              "    [theme=dark] .colab-df-convert:hover {\n",
              "      background-color: #434B5C;\n",
              "      box-shadow: 0px 1px 3px 1px rgba(0, 0, 0, 0.15);\n",
              "      filter: drop-shadow(0px 1px 2px rgba(0, 0, 0, 0.3));\n",
              "      fill: #FFFFFF;\n",
              "    }\n",
              "  </style>\n",
              "\n",
              "    <script>\n",
              "      const buttonEl =\n",
              "        document.querySelector('#df-25d1d08b-c416-4d10-b351-7a21a835ce8d button.colab-df-convert');\n",
              "      buttonEl.style.display =\n",
              "        google.colab.kernel.accessAllowed ? 'block' : 'none';\n",
              "\n",
              "      async function convertToInteractive(key) {\n",
              "        const element = document.querySelector('#df-25d1d08b-c416-4d10-b351-7a21a835ce8d');\n",
              "        const dataTable =\n",
              "          await google.colab.kernel.invokeFunction('convertToInteractive',\n",
              "                                                    [key], {});\n",
              "        if (!dataTable) return;\n",
              "\n",
              "        const docLinkHtml = 'Like what you see? Visit the ' +\n",
              "          '<a target=\"_blank\" href=https://colab.research.google.com/notebooks/data_table.ipynb>data table notebook</a>'\n",
              "          + ' to learn more about interactive tables.';\n",
              "        element.innerHTML = '';\n",
              "        dataTable['output_type'] = 'display_data';\n",
              "        await google.colab.output.renderOutput(dataTable, element);\n",
              "        const docLink = document.createElement('div');\n",
              "        docLink.innerHTML = docLinkHtml;\n",
              "        element.appendChild(docLink);\n",
              "      }\n",
              "    </script>\n",
              "  </div>\n",
              "\n",
              "\n",
              "<div id=\"df-9fe4ff1c-160e-4cfc-82c2-d0edc8983735\">\n",
              "  <button class=\"colab-df-quickchart\" onclick=\"quickchart('df-9fe4ff1c-160e-4cfc-82c2-d0edc8983735')\"\n",
              "            title=\"Suggest charts\"\n",
              "            style=\"display:none;\">\n",
              "\n",
              "<svg xmlns=\"http://www.w3.org/2000/svg\" height=\"24px\"viewBox=\"0 0 24 24\"\n",
              "     width=\"24px\">\n",
              "    <g>\n",
              "        <path d=\"M19 3H5c-1.1 0-2 .9-2 2v14c0 1.1.9 2 2 2h14c1.1 0 2-.9 2-2V5c0-1.1-.9-2-2-2zM9 17H7v-7h2v7zm4 0h-2V7h2v10zm4 0h-2v-4h2v4z\"/>\n",
              "    </g>\n",
              "</svg>\n",
              "  </button>\n",
              "\n",
              "<style>\n",
              "  .colab-df-quickchart {\n",
              "      --bg-color: #E8F0FE;\n",
              "      --fill-color: #1967D2;\n",
              "      --hover-bg-color: #E2EBFA;\n",
              "      --hover-fill-color: #174EA6;\n",
              "      --disabled-fill-color: #AAA;\n",
              "      --disabled-bg-color: #DDD;\n",
              "  }\n",
              "\n",
              "  [theme=dark] .colab-df-quickchart {\n",
              "      --bg-color: #3B4455;\n",
              "      --fill-color: #D2E3FC;\n",
              "      --hover-bg-color: #434B5C;\n",
              "      --hover-fill-color: #FFFFFF;\n",
              "      --disabled-bg-color: #3B4455;\n",
              "      --disabled-fill-color: #666;\n",
              "  }\n",
              "\n",
              "  .colab-df-quickchart {\n",
              "    background-color: var(--bg-color);\n",
              "    border: none;\n",
              "    border-radius: 50%;\n",
              "    cursor: pointer;\n",
              "    display: none;\n",
              "    fill: var(--fill-color);\n",
              "    height: 32px;\n",
              "    padding: 0;\n",
              "    width: 32px;\n",
              "  }\n",
              "\n",
              "  .colab-df-quickchart:hover {\n",
              "    background-color: var(--hover-bg-color);\n",
              "    box-shadow: 0 1px 2px rgba(60, 64, 67, 0.3), 0 1px 3px 1px rgba(60, 64, 67, 0.15);\n",
              "    fill: var(--button-hover-fill-color);\n",
              "  }\n",
              "\n",
              "  .colab-df-quickchart-complete:disabled,\n",
              "  .colab-df-quickchart-complete:disabled:hover {\n",
              "    background-color: var(--disabled-bg-color);\n",
              "    fill: var(--disabled-fill-color);\n",
              "    box-shadow: none;\n",
              "  }\n",
              "\n",
              "  .colab-df-spinner {\n",
              "    border: 2px solid var(--fill-color);\n",
              "    border-color: transparent;\n",
              "    border-bottom-color: var(--fill-color);\n",
              "    animation:\n",
              "      spin 1s steps(1) infinite;\n",
              "  }\n",
              "\n",
              "  @keyframes spin {\n",
              "    0% {\n",
              "      border-color: transparent;\n",
              "      border-bottom-color: var(--fill-color);\n",
              "      border-left-color: var(--fill-color);\n",
              "    }\n",
              "    20% {\n",
              "      border-color: transparent;\n",
              "      border-left-color: var(--fill-color);\n",
              "      border-top-color: var(--fill-color);\n",
              "    }\n",
              "    30% {\n",
              "      border-color: transparent;\n",
              "      border-left-color: var(--fill-color);\n",
              "      border-top-color: var(--fill-color);\n",
              "      border-right-color: var(--fill-color);\n",
              "    }\n",
              "    40% {\n",
              "      border-color: transparent;\n",
              "      border-right-color: var(--fill-color);\n",
              "      border-top-color: var(--fill-color);\n",
              "    }\n",
              "    60% {\n",
              "      border-color: transparent;\n",
              "      border-right-color: var(--fill-color);\n",
              "    }\n",
              "    80% {\n",
              "      border-color: transparent;\n",
              "      border-right-color: var(--fill-color);\n",
              "      border-bottom-color: var(--fill-color);\n",
              "    }\n",
              "    90% {\n",
              "      border-color: transparent;\n",
              "      border-bottom-color: var(--fill-color);\n",
              "    }\n",
              "  }\n",
              "</style>\n",
              "\n",
              "  <script>\n",
              "    async function quickchart(key) {\n",
              "      const quickchartButtonEl =\n",
              "        document.querySelector('#' + key + ' button');\n",
              "      quickchartButtonEl.disabled = true;  // To prevent multiple clicks.\n",
              "      quickchartButtonEl.classList.add('colab-df-spinner');\n",
              "      try {\n",
              "        const charts = await google.colab.kernel.invokeFunction(\n",
              "            'suggestCharts', [key], {});\n",
              "      } catch (error) {\n",
              "        console.error('Error during call to suggestCharts:', error);\n",
              "      }\n",
              "      quickchartButtonEl.classList.remove('colab-df-spinner');\n",
              "      quickchartButtonEl.classList.add('colab-df-quickchart-complete');\n",
              "    }\n",
              "    (() => {\n",
              "      let quickchartButtonEl =\n",
              "        document.querySelector('#df-9fe4ff1c-160e-4cfc-82c2-d0edc8983735 button');\n",
              "      quickchartButtonEl.style.display =\n",
              "        google.colab.kernel.accessAllowed ? 'block' : 'none';\n",
              "    })();\n",
              "  </script>\n",
              "</div>\n",
              "    </div>\n",
              "  </div>\n"
            ]
          },
          "metadata": {},
          "execution_count": 180
        }
      ]
    },
    {
      "cell_type": "code",
      "source": [
        "f20_index.plot(kind = \"bar\", width = 1, figsize=(10,4))\n",
        "plt.title(\"Planning tools\")\n",
        "plt.xlabel(\"Opción\")\n",
        "plt.ylabel(\"Frecuencia\")"
      ],
      "metadata": {
        "colab": {
          "base_uri": "https://localhost:8080/",
          "height": 574
        },
        "id": "Bfd1WwfBeRXH",
        "outputId": "cdd93470-0da3-446f-a999-ab92439fcc42"
      },
      "execution_count": 181,
      "outputs": [
        {
          "output_type": "execute_result",
          "data": {
            "text/plain": [
              "Text(0, 0.5, 'Frecuencia')"
            ]
          },
          "metadata": {},
          "execution_count": 181
        },
        {
          "output_type": "display_data",
          "data": {
            "text/plain": [
              "<Figure size 1000x400 with 1 Axes>"
            ],
            "image/png": "[encoded data removed]"
          },
          "metadata": {}
        }
      ]
    }
  ]
}